{
 "cells": [
  {
   "cell_type": "markdown",
   "metadata": {},
   "source": [
    "Getting the File"
   ]
  },
  {
   "cell_type": "code",
   "execution_count": 2,
   "metadata": {},
   "outputs": [
    {
     "data": {
      "text/plain": [
       "'GENESIS 1\\nTi Aramid ti Dios a Namarsua.\\n1Idi punganay ti Dios pinarsuana dagiti langlangit ken ti daga.\\n2Ket ti daga adda idi a gosogoso ken awan nagyan; ket dagiti sipnget addada idi iti rabao ti yuyeng: ket ti Espiritu ti Dios nagtignay iti rabao dagiti dandanum.\\n3Ket ti Dios kinunana, Adda coma lawag: ket nagadda ti lawag.\\n4Ket ti Dios nakitana a ti lawag naimbag: ket inlasin ti Dios ti lawag cadagiti sipnget.\\n5Ket ti Dios ninaganna ti lawag aldaw, ket dagiti sipnget ninagananna ti rabii. Ket naadda ti malem ken ti bigat, maysa nga aldaw.\\n6Ket ti Dios kinunana, adda coma maysa a tangatang iti tengnga dagiti dandanum, a pagsisinaan dagiti dandanum cadagiti dandanum.\\n7Ket ti Dios inaramidna ti tangatang, ket insinana dagiti danum nga adda iti baba ti tangatang, cadagiti danum nga adda iti rabaw ti tangatang: ket naaramid a casta.\\n8Ket ti Dios ninaganna, ti tangatang, Langit. Ket naadda ti malem ken ti bigat, aldaw a maicadua.\\n9Ket ti Dios kinunana, mapagtitipon coma dagiti danum nga adda iti baba dagiti langit iti maysa a disso, ket agparang coma ti daga a namaga: ket naaramid a casta.\\n10Ket ti Dios ninagananna ti namaga, Daga ket ti nacatiponan dagiti danum ninagananna Tataaw: ket ti Dios nakitana a nasayaatda,\\n11Ket ti Dios kinunana, Patuboen coma ti daga ti root, mulmula nga adda bukelda ken caycayo nga agbunga nga ti bukelda adda cadacuada cas iti casisigudda, iti rabaw ti daga: ket naaramid a casta.\\n12Ket pinataud ti daga ti root, mulmula nga addaan bukel a mayannatup iti casisigudda, ken caycayo nga agbunga a ti bukel adda cadacuada cas ti casisigudda: ket ti Dios nakitana a nasayaatda.\\n13Ket naadda ti malem ken ti bigat, aldaw a maicatlo.\\n14Ket ti Dios kinunana, Adda coma dagiti silsilaw iti tangatang dagiti langit tapno aglasin ti aldaw ken ti rabii: ket maipaayda coma a cas pagilaslasinan, ken panpanawen, al-aldaw, ken tawtawen:\\n15Ket maipaayda coma a silsilaw iti tangatang dagiti langit a manglawag iti daga: ket naaramid a casta.\\n16Ket ti Dios inaramidna dagiti dua a silsilaw a dadackel: ti silaw a dacdackel tapno aggundaway iti aldaw, ket ti silaw a basbassit tapno aggundaway iti rabii: inaramidna met dagiti bitbitwen.\\n17Ket ti Dios insaadna ida iti tangatang dagiti langit, tapno lawaganda ti rabaw ti daga,\\n18 Ken tapno aggundaway iti aldaw ken iti rabii, ken tapno aglasin ti lawag ken sipnget: ket ti Dios nakitana a nasayaatda.\\n19Ket naadda ti malem ken ti bigat, aldaw a maicapat.\\n20Ket ti Dios kinunana agpangen coma cadagiti dandanum dagiti parsua a nabiag ken agtayab dagiti tumatayab iti ngato ti daga iti tangatang dagiti langit.\\n21Ket ti Dios pinarsuana dagiti dadackel nga animal ti taaw ken isu-amin a kita a nabiag nga aggaraw a nagpangenda cas ti casisigudda cadagiti danum, ken amin a tumatayab a nagpayac cas iti casisigudda; ket ti Dios nakitana a nasayaatda.\\n22Ket ti Dios binendicionanna ida a cunana, Agbungacayo coma ket agaducayo, ket punnoenyo dagiti danum dagiti taaw, ket dagiti tumatayab agaduda coma iti daga.\\n23Ket naadda ti malem ken ti bigat, aldaw a maicalima.\\n24Ket ti Dios kinunana, Patauden coma ti daga dagiti parsua a nabiag cas iti cakikitada, an-animal, ken agcarcarayam ken agcacarungsot iti daga cas iti cakikitada: ket naaramid a casta.\\n25Ket ti Dios inaramidna dagiti agcacarungsot iti daga cas iti casisigudda, ken an-animal, cas iti cakikitada, ken isu-amin nga aguy-uyas iti daga cas iti casisigudda: ket ti Dios nakitana a nasayaatda.\\n26Ket ti Dios kinunana, Aramidentayo coma ti tao iti ladawantayo, cas caaspingtayo: ket iturayanda coma dagiti ic-ican ti taaw, ken dagiti tumatayab cadagiti langit ken dagiti an-animal, ken ti amin a daga, ken dagiti amin nga agcarcarayam nga aguy-uyas iti rabaw ti daga.\\n27Ket ti Dios pinarsuana ti tao a caladawanna met laeng, iti ladawan ti Dios pinarsuana; pinarsuana ida a lalaki ken babai.\\n28 Ket ti Dios binendicionanna ida, ket ti Dios kinunana cadacuada, Agbungacayo, ket agaducayo, ket punnoenyo ti daga, agbalincayo nga Appo kencuana; ket iturayanyo dagiti ican ti taaw, ken dagiti tumatayab cadagiti langit, ken amin nga parsua a sibibiag nga aggaraw iti rabaw ti daga.\\n29Ket ti Dios kinunana, Adtoy, iniccancayo iti isu-amin a roroot nga addan bukel, nga adda iti rabaw ti amin a daga: ken isu-amin a cayo nga addaan bunga nga agpataud ti bin-i; maipaaydanto a canenyo.\\n30 Ken cadagiti isu-amin nga an-animal iti daga, ken amin a tumatayab iti langit, ken amin nga aggaraw iti rabaw ti daga nga addaan biag, maipaay coma cadacuada a canenda ti amin a nalasbang a root: ket naaramid a casta.\\n31Ket ti Dios nakitana amin nga inaramidna, ket, adtoy, nasayaatda unay. Ket naadda ti malem ken ti bigat, aldaw a maicanem.'"
      ]
     },
     "execution_count": 2,
     "metadata": {},
     "output_type": "execute_result"
    }
   ],
   "source": [
    "import pandas as pd\n",
    "\n",
    "# Opening the file\n",
    "ilokano_data = open(\"Data/Ilokano_Bible.txt\").read()\n",
    "\n",
    "# Printing the file\n",
    "ilokano_data"
   ]
  },
  {
   "cell_type": "code",
   "execution_count": null,
   "metadata": {},
   "outputs": [],
   "source": []
  }
 ],
 "metadata": {
  "kernelspec": {
   "display_name": "Python 3.10.1 64-bit",
   "language": "python",
   "name": "python3"
  },
  "language_info": {
   "codemirror_mode": {
    "name": "ipython",
    "version": 3
   },
   "file_extension": ".py",
   "mimetype": "text/x-python",
   "name": "python",
   "nbconvert_exporter": "python",
   "pygments_lexer": "ipython3",
   "version": "3.10.1"
  },
  "orig_nbformat": 4,
  "vscode": {
   "interpreter": {
    "hash": "fd5e40cb983109c15fc1053f6f3e661cc97e68e07c1758cdbd2441c60186ce19"
   }
  }
 },
 "nbformat": 4,
 "nbformat_minor": 2
}
