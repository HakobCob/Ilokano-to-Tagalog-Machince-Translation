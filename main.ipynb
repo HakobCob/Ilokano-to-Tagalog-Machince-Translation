{
 "cells": [
  {
   "cell_type": "markdown",
   "metadata": {},
   "source": [
    "Getting the File"
   ]
  },
  {
   "cell_type": "code",
   "execution_count": 1,
   "metadata": {},
   "outputs": [],
   "source": [
    "import pandas as pd\n",
    "\n",
    "# Opening the file\n",
    "ilokano_raw = open(\"Data/Ilokano_Bible.txt\").read()\n",
    "tagalog_raw = open(\"Data/Tagalog_Bible.txt\").read()\n",
    "\n",
    "# Printing the Ilokano Raw Data\n",
    "ilokano_raw[0:500]"
   ]
  },
  {
   "cell_type": "code",
   "execution_count": null,
   "metadata": {},
   "outputs": [
    {
     "data": {
      "text/plain": [
       "'GENESIS 1\\nNilalang ng Dios ang sanglibutan.\\n1Nang pasimula ay nilikha ng Dios ang langit at ang lupa.\\n2At ang lupa ay walang anyo at walang laman; at ang kadiliman ay sumasa ibabaw ng kalaliman; at ang Espiritu ng Dios ay sumasa ibabaw ng tubig.\\n3At sinabi ng Dios Magkaroon ng liwanag; at nagkaroon ng liwanag.\\n4At nakita ng Dios ang liwanag na mabuti, at inihiwalay ng Dios ang liwanag sa kadiliman.\\n5At tinawag ng Dios ang liwanag na Araw, at tinawag niya ang kadiliman na Gabi. At nagkahapon at n'"
      ]
     },
     "execution_count": 3,
     "metadata": {},
     "output_type": "execute_result"
    }
   ],
   "source": [
    "# Printing the Tagalog Raw Data\n",
    "tagalog_raw[0:500]"
   ]
  },
  {
   "cell_type": "code",
   "execution_count": null,
   "metadata": {},
   "outputs": [
    {
     "data": {
      "text/plain": [
       "['GENESIS 1',\n",
       " 'Ti Aramid ti Dios a Namarsua.',\n",
       " '1Idi punganay ti Dios pinarsuana dagiti langlangit ken ti daga.']"
      ]
     },
     "execution_count": 4,
     "metadata": {},
     "output_type": "execute_result"
    }
   ],
   "source": [
    "# Parsing the data\n",
    "parsedIlokano = ilokano_raw.split('\\n')\n",
    "parsedTagalog = tagalog_raw.split('\\n')\n",
    "\n",
    "# Printing the parsed data\n",
    "parsedIlokano[0:3]"
   ]
  },
  {
   "cell_type": "code",
   "execution_count": null,
   "metadata": {},
   "outputs": [
    {
     "data": {
      "text/plain": [
       "['GENESIS 1',\n",
       " 'Nilalang ng Dios ang sanglibutan.',\n",
       " '1Nang pasimula ay nilikha ng Dios ang langit at ang lupa.']"
      ]
     },
     "execution_count": 5,
     "metadata": {},
     "output_type": "execute_result"
    }
   ],
   "source": [
    "parsedTagalog[0:3]"
   ]
  },
  {
   "cell_type": "code",
   "execution_count": null,
   "metadata": {},
   "outputs": [
    {
     "data": {
      "text/html": [
       "<div>\n",
       "<style scoped>\n",
       "    .dataframe tbody tr th:only-of-type {\n",
       "        vertical-align: middle;\n",
       "    }\n",
       "\n",
       "    .dataframe tbody tr th {\n",
       "        vertical-align: top;\n",
       "    }\n",
       "\n",
       "    .dataframe thead th {\n",
       "        text-align: right;\n",
       "    }\n",
       "</style>\n",
       "<table border=\"1\" class=\"dataframe\">\n",
       "  <thead>\n",
       "    <tr style=\"text-align: right;\">\n",
       "      <th></th>\n",
       "      <th>ilokano</th>\n",
       "      <th>tagalog</th>\n",
       "    </tr>\n",
       "  </thead>\n",
       "  <tbody>\n",
       "    <tr>\n",
       "      <th>0</th>\n",
       "      <td>GENESIS 1</td>\n",
       "      <td>GENESIS 1</td>\n",
       "    </tr>\n",
       "    <tr>\n",
       "      <th>1</th>\n",
       "      <td>Ti Aramid ti Dios a Namarsua.</td>\n",
       "      <td>Nilalang ng Dios ang sanglibutan.</td>\n",
       "    </tr>\n",
       "    <tr>\n",
       "      <th>2</th>\n",
       "      <td>1Idi punganay ti Dios pinarsuana dagiti langla...</td>\n",
       "      <td>1Nang pasimula ay nilikha ng Dios ang langit a...</td>\n",
       "    </tr>\n",
       "    <tr>\n",
       "      <th>3</th>\n",
       "      <td>2Ket ti daga adda idi a gosogoso ken awan nagy...</td>\n",
       "      <td>2At ang lupa ay walang anyo at walang laman; a...</td>\n",
       "    </tr>\n",
       "    <tr>\n",
       "      <th>4</th>\n",
       "      <td>3Ket ti Dios kinunana, Adda coma lawag: ket na...</td>\n",
       "      <td>3At sinabi ng Dios Magkaroon ng liwanag; at na...</td>\n",
       "    </tr>\n",
       "  </tbody>\n",
       "</table>\n",
       "</div>"
      ],
      "text/plain": [
       "                                             ilokano  \\\n",
       "0                                          GENESIS 1   \n",
       "1                      Ti Aramid ti Dios a Namarsua.   \n",
       "2  1Idi punganay ti Dios pinarsuana dagiti langla...   \n",
       "3  2Ket ti daga adda idi a gosogoso ken awan nagy...   \n",
       "4  3Ket ti Dios kinunana, Adda coma lawag: ket na...   \n",
       "\n",
       "                                             tagalog  \n",
       "0                                          GENESIS 1  \n",
       "1                  Nilalang ng Dios ang sanglibutan.  \n",
       "2  1Nang pasimula ay nilikha ng Dios ang langit a...  \n",
       "3  2At ang lupa ay walang anyo at walang laman; a...  \n",
       "4  3At sinabi ng Dios Magkaroon ng liwanag; at na...  "
      ]
     },
     "execution_count": 6,
     "metadata": {},
     "output_type": "execute_result"
    }
   ],
   "source": [
    "# Dictionary\n",
    "\n",
    "dict_bible = pd.DataFrame({\n",
    "    'ilokano' : parsedIlokano,\n",
    "    'tagalog' : parsedTagalog\n",
    "})\n",
    "\n",
    "# Printing the first 5 elements of the dictionary\n",
    "dict_bible.head()"
   ]
  },
  {
   "cell_type": "code",
   "execution_count": null,
   "metadata": {},
   "outputs": [
    {
     "data": {
      "text/html": [
       "<div>\n",
       "<style scoped>\n",
       "    .dataframe tbody tr th:only-of-type {\n",
       "        vertical-align: middle;\n",
       "    }\n",
       "\n",
       "    .dataframe tbody tr th {\n",
       "        vertical-align: top;\n",
       "    }\n",
       "\n",
       "    .dataframe thead th {\n",
       "        text-align: right;\n",
       "    }\n",
       "</style>\n",
       "<table border=\"1\" class=\"dataframe\">\n",
       "  <thead>\n",
       "    <tr style=\"text-align: right;\">\n",
       "      <th></th>\n",
       "      <th>ilokano</th>\n",
       "      <th>tagalog</th>\n",
       "      <th>ilokano_nopunc</th>\n",
       "      <th>tagalog_nopunc</th>\n",
       "    </tr>\n",
       "  </thead>\n",
       "  <tbody>\n",
       "    <tr>\n",
       "      <th>0</th>\n",
       "      <td>GENESIS 1</td>\n",
       "      <td>GENESIS 1</td>\n",
       "      <td>GENESIS 1</td>\n",
       "      <td>GENESIS 1</td>\n",
       "    </tr>\n",
       "    <tr>\n",
       "      <th>1</th>\n",
       "      <td>Ti Aramid ti Dios a Namarsua.</td>\n",
       "      <td>Nilalang ng Dios ang sanglibutan.</td>\n",
       "      <td>Ti Aramid ti Dios a Namarsua</td>\n",
       "      <td>Nilalang ng Dios ang sanglibutan</td>\n",
       "    </tr>\n",
       "    <tr>\n",
       "      <th>2</th>\n",
       "      <td>1Idi punganay ti Dios pinarsuana dagiti langla...</td>\n",
       "      <td>1Nang pasimula ay nilikha ng Dios ang langit a...</td>\n",
       "      <td>1Idi punganay ti Dios pinarsuana dagiti langla...</td>\n",
       "      <td>1Nang pasimula ay nilikha ng Dios ang langit a...</td>\n",
       "    </tr>\n",
       "    <tr>\n",
       "      <th>3</th>\n",
       "      <td>2Ket ti daga adda idi a gosogoso ken awan nagy...</td>\n",
       "      <td>2At ang lupa ay walang anyo at walang laman; a...</td>\n",
       "      <td>2Ket ti daga adda idi a gosogoso ken awan nagy...</td>\n",
       "      <td>2At ang lupa ay walang anyo at walang laman at...</td>\n",
       "    </tr>\n",
       "    <tr>\n",
       "      <th>4</th>\n",
       "      <td>3Ket ti Dios kinunana, Adda coma lawag: ket na...</td>\n",
       "      <td>3At sinabi ng Dios Magkaroon ng liwanag; at na...</td>\n",
       "      <td>3Ket ti Dios kinunana Adda coma lawag ket naga...</td>\n",
       "      <td>3At sinabi ng Dios Magkaroon ng liwanag at nag...</td>\n",
       "    </tr>\n",
       "  </tbody>\n",
       "</table>\n",
       "</div>"
      ],
      "text/plain": [
       "                                             ilokano  \\\n",
       "0                                          GENESIS 1   \n",
       "1                      Ti Aramid ti Dios a Namarsua.   \n",
       "2  1Idi punganay ti Dios pinarsuana dagiti langla...   \n",
       "3  2Ket ti daga adda idi a gosogoso ken awan nagy...   \n",
       "4  3Ket ti Dios kinunana, Adda coma lawag: ket na...   \n",
       "\n",
       "                                             tagalog  \\\n",
       "0                                          GENESIS 1   \n",
       "1                  Nilalang ng Dios ang sanglibutan.   \n",
       "2  1Nang pasimula ay nilikha ng Dios ang langit a...   \n",
       "3  2At ang lupa ay walang anyo at walang laman; a...   \n",
       "4  3At sinabi ng Dios Magkaroon ng liwanag; at na...   \n",
       "\n",
       "                                      ilokano_nopunc  \\\n",
       "0                                          GENESIS 1   \n",
       "1                       Ti Aramid ti Dios a Namarsua   \n",
       "2  1Idi punganay ti Dios pinarsuana dagiti langla...   \n",
       "3  2Ket ti daga adda idi a gosogoso ken awan nagy...   \n",
       "4  3Ket ti Dios kinunana Adda coma lawag ket naga...   \n",
       "\n",
       "                                      tagalog_nopunc  \n",
       "0                                          GENESIS 1  \n",
       "1                   Nilalang ng Dios ang sanglibutan  \n",
       "2  1Nang pasimula ay nilikha ng Dios ang langit a...  \n",
       "3  2At ang lupa ay walang anyo at walang laman at...  \n",
       "4  3At sinabi ng Dios Magkaroon ng liwanag at nag...  "
      ]
     },
     "execution_count": 7,
     "metadata": {},
     "output_type": "execute_result"
    }
   ],
   "source": [
    "import string\n",
    "\n",
    "def remove_punct(pText):\n",
    "    text_nopumct = \"\".join([char for char in pText if char not in string.punctuation])\n",
    "    return text_nopumct\n",
    "\n",
    "dict_bible['ilokano_nopunc'] = dict_bible['ilokano'].apply(lambda x: remove_punct(x))\n",
    "dict_bible['tagalog_nopunc'] = dict_bible['tagalog'].apply(lambda x: remove_punct(x))\n",
    "dict_bible.head()\n"
   ]
  },
  {
   "cell_type": "code",
   "execution_count": null,
   "metadata": {},
   "outputs": [
    {
     "data": {
      "text/html": [
       "<div>\n",
       "<style scoped>\n",
       "    .dataframe tbody tr th:only-of-type {\n",
       "        vertical-align: middle;\n",
       "    }\n",
       "\n",
       "    .dataframe tbody tr th {\n",
       "        vertical-align: top;\n",
       "    }\n",
       "\n",
       "    .dataframe thead th {\n",
       "        text-align: right;\n",
       "    }\n",
       "</style>\n",
       "<table border=\"1\" class=\"dataframe\">\n",
       "  <thead>\n",
       "    <tr style=\"text-align: right;\">\n",
       "      <th></th>\n",
       "      <th>ilokano</th>\n",
       "      <th>tagalog</th>\n",
       "      <th>ilokano_nopunc</th>\n",
       "      <th>tagalog_nopunc</th>\n",
       "      <th>ilokano_tokenized</th>\n",
       "      <th>tagalog_tokenized</th>\n",
       "    </tr>\n",
       "  </thead>\n",
       "  <tbody>\n",
       "    <tr>\n",
       "      <th>0</th>\n",
       "      <td>GENESIS 1</td>\n",
       "      <td>GENESIS 1</td>\n",
       "      <td>GENESIS 1</td>\n",
       "      <td>GENESIS 1</td>\n",
       "      <td>[genesis, 1]</td>\n",
       "      <td>[genesis, 1]</td>\n",
       "    </tr>\n",
       "    <tr>\n",
       "      <th>1</th>\n",
       "      <td>Ti Aramid ti Dios a Namarsua.</td>\n",
       "      <td>Nilalang ng Dios ang sanglibutan.</td>\n",
       "      <td>Ti Aramid ti Dios a Namarsua</td>\n",
       "      <td>Nilalang ng Dios ang sanglibutan</td>\n",
       "      <td>[ti, aramid, ti, dios, a, namarsua]</td>\n",
       "      <td>[nilalang, ng, dios, ang, sanglibutan]</td>\n",
       "    </tr>\n",
       "    <tr>\n",
       "      <th>2</th>\n",
       "      <td>1Idi punganay ti Dios pinarsuana dagiti langla...</td>\n",
       "      <td>1Nang pasimula ay nilikha ng Dios ang langit a...</td>\n",
       "      <td>1Idi punganay ti Dios pinarsuana dagiti langla...</td>\n",
       "      <td>1Nang pasimula ay nilikha ng Dios ang langit a...</td>\n",
       "      <td>[1idi, punganay, ti, dios, pinarsuana, dagiti,...</td>\n",
       "      <td>[1nang, pasimula, ay, nilikha, ng, dios, ang, ...</td>\n",
       "    </tr>\n",
       "    <tr>\n",
       "      <th>3</th>\n",
       "      <td>2Ket ti daga adda idi a gosogoso ken awan nagy...</td>\n",
       "      <td>2At ang lupa ay walang anyo at walang laman; a...</td>\n",
       "      <td>2Ket ti daga adda idi a gosogoso ken awan nagy...</td>\n",
       "      <td>2At ang lupa ay walang anyo at walang laman at...</td>\n",
       "      <td>[2ket, ti, daga, adda, idi, a, gosogoso, ken, ...</td>\n",
       "      <td>[2at, ang, lupa, ay, walang, anyo, at, walang,...</td>\n",
       "    </tr>\n",
       "    <tr>\n",
       "      <th>4</th>\n",
       "      <td>3Ket ti Dios kinunana, Adda coma lawag: ket na...</td>\n",
       "      <td>3At sinabi ng Dios Magkaroon ng liwanag; at na...</td>\n",
       "      <td>3Ket ti Dios kinunana Adda coma lawag ket naga...</td>\n",
       "      <td>3At sinabi ng Dios Magkaroon ng liwanag at nag...</td>\n",
       "      <td>[3ket, ti, dios, kinunana, adda, coma, lawag, ...</td>\n",
       "      <td>[3at, sinabi, ng, dios, magkaroon, ng, liwanag...</td>\n",
       "    </tr>\n",
       "  </tbody>\n",
       "</table>\n",
       "</div>"
      ],
      "text/plain": [
       "                                             ilokano  \\\n",
       "0                                          GENESIS 1   \n",
       "1                      Ti Aramid ti Dios a Namarsua.   \n",
       "2  1Idi punganay ti Dios pinarsuana dagiti langla...   \n",
       "3  2Ket ti daga adda idi a gosogoso ken awan nagy...   \n",
       "4  3Ket ti Dios kinunana, Adda coma lawag: ket na...   \n",
       "\n",
       "                                             tagalog  \\\n",
       "0                                          GENESIS 1   \n",
       "1                  Nilalang ng Dios ang sanglibutan.   \n",
       "2  1Nang pasimula ay nilikha ng Dios ang langit a...   \n",
       "3  2At ang lupa ay walang anyo at walang laman; a...   \n",
       "4  3At sinabi ng Dios Magkaroon ng liwanag; at na...   \n",
       "\n",
       "                                      ilokano_nopunc  \\\n",
       "0                                          GENESIS 1   \n",
       "1                       Ti Aramid ti Dios a Namarsua   \n",
       "2  1Idi punganay ti Dios pinarsuana dagiti langla...   \n",
       "3  2Ket ti daga adda idi a gosogoso ken awan nagy...   \n",
       "4  3Ket ti Dios kinunana Adda coma lawag ket naga...   \n",
       "\n",
       "                                      tagalog_nopunc  \\\n",
       "0                                          GENESIS 1   \n",
       "1                   Nilalang ng Dios ang sanglibutan   \n",
       "2  1Nang pasimula ay nilikha ng Dios ang langit a...   \n",
       "3  2At ang lupa ay walang anyo at walang laman at...   \n",
       "4  3At sinabi ng Dios Magkaroon ng liwanag at nag...   \n",
       "\n",
       "                                   ilokano_tokenized  \\\n",
       "0                                       [genesis, 1]   \n",
       "1                [ti, aramid, ti, dios, a, namarsua]   \n",
       "2  [1idi, punganay, ti, dios, pinarsuana, dagiti,...   \n",
       "3  [2ket, ti, daga, adda, idi, a, gosogoso, ken, ...   \n",
       "4  [3ket, ti, dios, kinunana, adda, coma, lawag, ...   \n",
       "\n",
       "                                   tagalog_tokenized  \n",
       "0                                       [genesis, 1]  \n",
       "1             [nilalang, ng, dios, ang, sanglibutan]  \n",
       "2  [1nang, pasimula, ay, nilikha, ng, dios, ang, ...  \n",
       "3  [2at, ang, lupa, ay, walang, anyo, at, walang,...  \n",
       "4  [3at, sinabi, ng, dios, magkaroon, ng, liwanag...  "
      ]
     },
     "execution_count": 11,
     "metadata": {},
     "output_type": "execute_result"
    }
   ],
   "source": [
    "import re\n",
    "\n",
    "def tokenize(text):\n",
    "    tokens = re.split('\\W+', text)\n",
    "    return tokens\n",
    "\n",
    "dict_bible['ilokano_tokenized'] = dict_bible['ilokano_nopunc'].apply(lambda x: tokenize(x.lower()))\n",
    "dict_bible['tagalog_tokenized'] = dict_bible['tagalog_nopunc'].apply(lambda x: tokenize(x.lower()))\n",
    "\n",
    "dict_bible.head()"
   ]
  },
  {
   "cell_type": "code",
   "execution_count": null,
   "metadata": {},
   "outputs": [],
   "source": []
  }
 ],
 "metadata": {
  "kernelspec": {
   "display_name": "Python 3.10.1 64-bit",
   "language": "python",
   "name": "python3"
  },
  "language_info": {
   "codemirror_mode": {
    "name": "ipython",
    "version": 3
   },
   "file_extension": ".py",
   "mimetype": "text/x-python",
   "name": "python",
   "nbconvert_exporter": "python",
   "pygments_lexer": "ipython3",
   "version": "3.10.1"
  },
  "orig_nbformat": 4,
  "vscode": {
   "interpreter": {
    "hash": "fd5e40cb983109c15fc1053f6f3e661cc97e68e07c1758cdbd2441c60186ce19"
   }
  }
 },
 "nbformat": 4,
 "nbformat_minor": 2
}
