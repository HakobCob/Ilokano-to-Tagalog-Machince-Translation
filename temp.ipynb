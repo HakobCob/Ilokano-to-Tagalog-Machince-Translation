{
 "cells": [
  {
   "cell_type": "code",
   "execution_count": 3,
   "metadata": {},
   "outputs": [
    {
     "data": {
      "text/html": [
       "<div>\n",
       "<style scoped>\n",
       "    .dataframe tbody tr th:only-of-type {\n",
       "        vertical-align: middle;\n",
       "    }\n",
       "\n",
       "    .dataframe tbody tr th {\n",
       "        vertical-align: top;\n",
       "    }\n",
       "\n",
       "    .dataframe thead th {\n",
       "        text-align: right;\n",
       "    }\n",
       "</style>\n",
       "<table border=\"1\" class=\"dataframe\">\n",
       "  <thead>\n",
       "    <tr style=\"text-align: right;\">\n",
       "      <th></th>\n",
       "      <th>Ilokano</th>\n",
       "      <th>Tagalog</th>\n",
       "    </tr>\n",
       "  </thead>\n",
       "  <tbody>\n",
       "    <tr>\n",
       "      <th>0</th>\n",
       "      <td>Iti casta ti ari natay ket isu naipan sadi Sam...</td>\n",
       "      <td>sa gayoy namatay ang hari at dinala sa samaria...</td>\n",
       "    </tr>\n",
       "    <tr>\n",
       "      <th>1</th>\n",
       "      <td>Idin ni David nagbaon ket isu innalana idiay b...</td>\n",
       "      <td>nang magkagayoy nagsugo ang haring si david at...</td>\n",
       "    </tr>\n",
       "    <tr>\n",
       "      <th>2</th>\n",
       "      <td>Adam Set Enos</td>\n",
       "      <td>si adam si seth si enos</td>\n",
       "    </tr>\n",
       "    <tr>\n",
       "      <th>3</th>\n",
       "      <td>Dagiti lallaki ti Betlehem ken ti Netofa sanga...</td>\n",
       "      <td>ang mga lalake ng bethlehem at ng netopha isan...</td>\n",
       "    </tr>\n",
       "    <tr>\n",
       "      <th>4</th>\n",
       "      <td>Ket ni Jehova nakisao ken Moises iti daydi met...</td>\n",
       "      <td>at sinalita ng panginoon kay moises nang araw ...</td>\n",
       "    </tr>\n",
       "  </tbody>\n",
       "</table>\n",
       "</div>"
      ],
      "text/plain": [
       "                                             Ilokano  \\\n",
       "0  Iti casta ti ari natay ket isu naipan sadi Sam...   \n",
       "1  Idin ni David nagbaon ket isu innalana idiay b...   \n",
       "2                                      Adam Set Enos   \n",
       "3  Dagiti lallaki ti Betlehem ken ti Netofa sanga...   \n",
       "4  Ket ni Jehova nakisao ken Moises iti daydi met...   \n",
       "\n",
       "                                             Tagalog  \n",
       "0  sa gayoy namatay ang hari at dinala sa samaria...  \n",
       "1  nang magkagayoy nagsugo ang haring si david at...  \n",
       "2                            si adam si seth si enos  \n",
       "3  ang mga lalake ng bethlehem at ng netopha isan...  \n",
       "4  at sinalita ng panginoon kay moises nang araw ...  "
      ]
     },
     "execution_count": 3,
     "metadata": {},
     "output_type": "execute_result"
    }
   ],
   "source": [
    "import pandas as pd\n",
    "# reading the csv file \n",
    "\n",
    "df_test = pd.read_csv('src/csv data/test.csv')\n",
    "\n",
    "# randomized the sequence of the data\n",
    "df_test = df_test.sample(frac=1).reset_index(drop=True)\n",
    "\n",
    "df_test.head()"
   ]
  },
  {
   "cell_type": "code",
   "execution_count": 4,
   "metadata": {},
   "outputs": [],
   "source": [
    "# save the Ilokano column of the dataframe into a txt file\n",
    "with open('src/text data/testing data/Ilokano/test_ilokano.txt', 'w') as f:\n",
    "    for item in df_test['Ilokano']:\n",
    "        f.write(\"%s\\n\" % item.lower())\n",
    "\n",
    "with open('src/text data/testing data/Tagalog/test_tagalog.txt', 'w') as f:\n",
    "    for item in df_test['Tagalog']:\n",
    "        f.write(\"%s\\n\" % item.lower())"
   ]
  },
  {
   "cell_type": "code",
   "execution_count": null,
   "metadata": {},
   "outputs": [],
   "source": []
  }
 ],
 "metadata": {
  "kernelspec": {
   "display_name": "Python 3",
   "language": "python",
   "name": "python3"
  },
  "language_info": {
   "codemirror_mode": {
    "name": "ipython",
    "version": 3
   },
   "file_extension": ".py",
   "mimetype": "text/x-python",
   "name": "python",
   "nbconvert_exporter": "python",
   "pygments_lexer": "ipython3",
   "version": "3.10.1"
  },
  "orig_nbformat": 4,
  "vscode": {
   "interpreter": {
    "hash": "fd5e40cb983109c15fc1053f6f3e661cc97e68e07c1758cdbd2441c60186ce19"
   }
  }
 },
 "nbformat": 4,
 "nbformat_minor": 2
}
