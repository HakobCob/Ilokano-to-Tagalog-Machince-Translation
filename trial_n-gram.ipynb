{
 "cells": [
  {
   "cell_type": "code",
   "execution_count": null,
   "metadata": {},
   "outputs": [],
   "source": [
    "import pandas as pd\n",
    "import re\n",
    "\n",
    "def nGram(text, n):\n",
    "    \n",
    "    ngrams=[]\n",
    "    #collect n-gram\n",
    "    for i in range(len(text)-n+1):\n",
    "        temp=[text[j] for j in range(i, i+n)]\n",
    "        ngrams.append(\" \".join(temp))\n",
    "        \n",
    "    return ngrams\n",
    "\n"
   ]
  },
  {
   "cell_type": "code",
   "execution_count": null,
   "metadata": {},
   "outputs": [],
   "source": [
    "# Read the tagalog POS dataset\n",
    "tl_pos_data = pd.read_json('src/json data/tl_pos.json')\n",
    "tl_pos_list = tl_pos_data['POS']\n",
    "\n",
    "unigram = []\n",
    "bigram = []\n",
    "trigram = []\n",
    "\n",
    "for tl_pos in tl_pos_list:\n",
    "  unigram.append(nGram(tl_pos, 1))\n",
    "  bigram.append(nGram(tl_pos, 2))\n",
    "  trigram.append(nGram(tl_pos, 3))\n",
    "  \n",
    "  \n",
    "\n",
    "  \n",
    "print(trigram)\n",
    "\n",
    "\n"
   ]
  }
 ],
 "metadata": {
  "kernelspec": {
   "display_name": "Python 3.10.6 64-bit",
   "language": "python",
   "name": "python3"
  },
  "language_info": {
   "codemirror_mode": {
    "name": "ipython",
    "version": 3
   },
   "file_extension": ".py",
   "mimetype": "text/x-python",
   "name": "python",
   "nbconvert_exporter": "python",
   "pygments_lexer": "ipython3",
   "version": "3.10.6"
  },
  "orig_nbformat": 4,
  "vscode": {
   "interpreter": {
    "hash": "a9cff5a362bc38ef45d817ae74b1af54d6a076e3d773891282bce078b815ba34"
   }
  }
 },
 "nbformat": 4,
 "nbformat_minor": 2
}
