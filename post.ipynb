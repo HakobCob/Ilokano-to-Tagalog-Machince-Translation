{
 "cells": [
  {
   "cell_type": "code",
   "execution_count": 7,
   "metadata": {},
   "outputs": [
    {
     "data": {
      "text/plain": [
       "'GENESIS\\nNilalang ng Dios ang sanglibutan.\\nNang pasimula ay nilikha ng Dios ang langit at ang lupa.\\nAt ang lupa ay walang anyo at walang laman; at ang kadiliman ay sumasa ibabaw ng kalaliman; at ang Espiritu ng Dios ay sumasa ibabaw ng tubig.\\nAt sinabi ng Dios Magkaroon ng liwanag; at nagkaroon ng liwanag.\\nAt nakita ng Dios ang liwanag na mabuti, at inihiwalay ng Dios ang liwanag sa kadiliman.\\nAt tinawag ng Dios ang liwanag na Araw, at tinawag niya ang kadiliman na Gabi. At nagkahapon at nagkaumaga ang unang araw.\\nAt sinabi ng Dios, Magkaroon ng isang kalawakan sa gitna ng tubig, at mahiwalay ang tubig sa kapuwa tubig.\\nAt ginawa ng Dios ang kalawakan, at inihiwalay ang tubig na nasa ilalim ng kalawakan, sa tubig na nasa itaas ng kalawakan: at nagkagayon.\\nAt tinawag ng Dios ang kalawakan na Langit. At nagkahapon at nagkaumaga ang ikalawang araw.\\nAt sinabi ng Dios, Mapisan ang tubig na nasa silong ng langit sa isang dako, at lumitaw ang katuyuan, at nagkagayon.\\nAt tinawag ng Dios ang katuyuan na Lupa, at ang kapisanan ng tubig ay tinawag niyang mga Dagat: at nakita ng Dios na mabuti.\\nAt sinabi ng Dios, Sibulan ang lupa ng damo, pananim na nagkakabinhi, at punong kahoy na namumunga ayon sa kaniyang pagkakahoy, na taglay ang kaniyang binhi sa ibabaw ng lupa, at nagkagayon.\\nAt ang lupa ay sinibulan ng damo, pananim na nagkakabinhi, ayon sa kaniyang pagkapananim, at ng punong kahoy na namumunga, na taglay ang kaniyang binhi, ayon sa kaniyang pagkakahoy, at nakita ng Dios na mabuti.\\nAt nagkahapon at nagkaumaga ang ikatlong araw.\\nAt sinabi ng Dios, Magkaroon ng mga tanglaw sa kalawakan ng langit upang maghiwalay ng araw sa gabi; at maging pinakatanda, at pinakabahagi ng panahon, ng mga araw at ng mga taon:\\nAt maging pinakatanglaw sa kalawakan ng langit, upang tumanglaw sa ibabaw ng lupa: at nagkagayon.\\nAt nilikha ng Dios ang dalawang malaking tanglaw; ang malaking tanglaw ay upang magpuno sa araw, at ang maliit na tanglaw ay upang magpuno sa gabi: nilikha rin niya ang mga bituin.\\nAt mga inilagay ng Dios sa kalawakan ng langit, upang tumanglaw sa ibabaw ng lupa,\\nAt upang magpuno sa araw at sa gabi, at upang maghiwalay ng liwanag sa kadiliman: at nakita ng Dios na mabuti.\\nAt nagkahapon at nagkaumaga ang ikaapat na araw.'"
      ]
     },
     "execution_count": 7,
     "metadata": {},
     "output_type": "execute_result"
    }
   ],
   "source": [
    "import pandas as pd\n",
    "\n",
    "# Opening the file\n",
    "sample_tl_raw = open(\"src/text data/Sample_Bible_Tagalog.txt\").read()\n",
    "\n",
    "# Printing the Ilokano Raw Data\n",
    "sample_tl_raw"
   ]
  },
  {
   "cell_type": "code",
   "execution_count": 10,
   "metadata": {},
   "outputs": [
    {
     "data": {
      "text/plain": [
       "['GENESIS',\n",
       " 'Nilalang ng Dios ang sanglibutan.',\n",
       " 'Nang pasimula ay nilikha ng Dios ang langit at ang lupa.',\n",
       " 'At ang lupa ay walang anyo at walang laman; at ang kadiliman ay sumasa ibabaw ng kalaliman; at ang Espiritu ng Dios ay sumasa ibabaw ng tubig.',\n",
       " 'At sinabi ng Dios Magkaroon ng liwanag; at nagkaroon ng liwanag.',\n",
       " 'At nakita ng Dios ang liwanag na mabuti, at inihiwalay ng Dios ang liwanag sa kadiliman.',\n",
       " 'At tinawag ng Dios ang liwanag na Araw, at tinawag niya ang kadiliman na Gabi. At nagkahapon at nagkaumaga ang unang araw.',\n",
       " 'At sinabi ng Dios, Magkaroon ng isang kalawakan sa gitna ng tubig, at mahiwalay ang tubig sa kapuwa tubig.',\n",
       " 'At ginawa ng Dios ang kalawakan, at inihiwalay ang tubig na nasa ilalim ng kalawakan, sa tubig na nasa itaas ng kalawakan: at nagkagayon.',\n",
       " 'At tinawag ng Dios ang kalawakan na Langit. At nagkahapon at nagkaumaga ang ikalawang araw.',\n",
       " 'At sinabi ng Dios, Mapisan ang tubig na nasa silong ng langit sa isang dako, at lumitaw ang katuyuan, at nagkagayon.',\n",
       " 'At tinawag ng Dios ang katuyuan na Lupa, at ang kapisanan ng tubig ay tinawag niyang mga Dagat: at nakita ng Dios na mabuti.',\n",
       " 'At sinabi ng Dios, Sibulan ang lupa ng damo, pananim na nagkakabinhi, at punong kahoy na namumunga ayon sa kaniyang pagkakahoy, na taglay ang kaniyang binhi sa ibabaw ng lupa, at nagkagayon.',\n",
       " 'At ang lupa ay sinibulan ng damo, pananim na nagkakabinhi, ayon sa kaniyang pagkapananim, at ng punong kahoy na namumunga, na taglay ang kaniyang binhi, ayon sa kaniyang pagkakahoy, at nakita ng Dios na mabuti.',\n",
       " 'At nagkahapon at nagkaumaga ang ikatlong araw.',\n",
       " 'At sinabi ng Dios, Magkaroon ng mga tanglaw sa kalawakan ng langit upang maghiwalay ng araw sa gabi; at maging pinakatanda, at pinakabahagi ng panahon, ng mga araw at ng mga taon:',\n",
       " 'At maging pinakatanglaw sa kalawakan ng langit, upang tumanglaw sa ibabaw ng lupa: at nagkagayon.',\n",
       " 'At nilikha ng Dios ang dalawang malaking tanglaw; ang malaking tanglaw ay upang magpuno sa araw, at ang maliit na tanglaw ay upang magpuno sa gabi: nilikha rin niya ang mga bituin.',\n",
       " 'At mga inilagay ng Dios sa kalawakan ng langit, upang tumanglaw sa ibabaw ng lupa,',\n",
       " 'At upang magpuno sa araw at sa gabi, at upang maghiwalay ng liwanag sa kadiliman: at nakita ng Dios na mabuti.',\n",
       " 'At nagkahapon at nagkaumaga ang ikaapat na araw.']"
      ]
     },
     "execution_count": 10,
     "metadata": {},
     "output_type": "execute_result"
    }
   ],
   "source": [
    "# Splitting the raw data into sentences\n",
    "parsed_sp_tl_raw = sample_tl_raw.split(\"\\n\")\n",
    "\n",
    "parsed_sp_tl_raw "
   ]
  },
  {
   "cell_type": "code",
   "execution_count": 19,
   "metadata": {},
   "outputs": [
    {
     "data": {
      "text/html": [
       "<div>\n",
       "<style scoped>\n",
       "    .dataframe tbody tr th:only-of-type {\n",
       "        vertical-align: middle;\n",
       "    }\n",
       "\n",
       "    .dataframe tbody tr th {\n",
       "        vertical-align: top;\n",
       "    }\n",
       "\n",
       "    .dataframe thead th {\n",
       "        text-align: right;\n",
       "    }\n",
       "</style>\n",
       "<table border=\"1\" class=\"dataframe\">\n",
       "  <thead>\n",
       "    <tr style=\"text-align: right;\">\n",
       "      <th></th>\n",
       "      <th>Sentence</th>\n",
       "    </tr>\n",
       "  </thead>\n",
       "  <tbody>\n",
       "    <tr>\n",
       "      <th>0</th>\n",
       "      <td>GENESIS</td>\n",
       "    </tr>\n",
       "    <tr>\n",
       "      <th>1</th>\n",
       "      <td>Nilalang ng Dios ang sanglibutan.</td>\n",
       "    </tr>\n",
       "    <tr>\n",
       "      <th>2</th>\n",
       "      <td>Nang pasimula ay nilikha ng Dios ang langit at...</td>\n",
       "    </tr>\n",
       "    <tr>\n",
       "      <th>3</th>\n",
       "      <td>At ang lupa ay walang anyo at walang laman; at...</td>\n",
       "    </tr>\n",
       "    <tr>\n",
       "      <th>4</th>\n",
       "      <td>At sinabi ng Dios Magkaroon ng liwanag; at nag...</td>\n",
       "    </tr>\n",
       "  </tbody>\n",
       "</table>\n",
       "</div>"
      ],
      "text/plain": [
       "                                            Sentence\n",
       "0                                            GENESIS\n",
       "1                  Nilalang ng Dios ang sanglibutan.\n",
       "2  Nang pasimula ay nilikha ng Dios ang langit at...\n",
       "3  At ang lupa ay walang anyo at walang laman; at...\n",
       "4  At sinabi ng Dios Magkaroon ng liwanag; at nag..."
      ]
     },
     "execution_count": 19,
     "metadata": {},
     "output_type": "execute_result"
    }
   ],
   "source": [
    "dict_sm_tl = pd.DataFrame(parsed_sp_tl_raw, columns = ['Sentence'])\n",
    "\n",
    "# Printing the first 5 rows of the DataFrame\n",
    "dict_sm_tl.head()"
   ]
  },
  {
   "cell_type": "markdown",
   "metadata": {},
   "source": [
    "## Viterbi Algorithm"
   ]
  },
  {
   "cell_type": "code",
   "execution_count": 20,
   "metadata": {},
   "outputs": [
    {
     "data": {
      "text/plain": [
       "'ng\\nang\\nNang\\nay\\nmga\\nna\\nsa'"
      ]
     },
     "execution_count": 20,
     "metadata": {},
     "output_type": "execute_result"
    }
   ],
   "source": [
    "# Opening the determiners file\n",
    "tl_determiners = open(\"src/text data/TL_Determiners.txt\").read()\n",
    "\n",
    "tl_determiners"
   ]
  },
  {
   "cell_type": "code",
   "execution_count": 24,
   "metadata": {},
   "outputs": [
    {
     "data": {
      "text/plain": [
       "['ng', 'ang', 'Nang', 'ay', 'mga', 'na', 'sa']"
      ]
     },
     "execution_count": 24,
     "metadata": {},
     "output_type": "execute_result"
    }
   ],
   "source": [
    "# Parsing the determiners file\n",
    "parsed_tl_dtmn = tl_determiners.split(\"\\n\")\n",
    "\n",
    "parsed_tl_dtmn"
   ]
  },
  {
   "cell_type": "markdown",
   "metadata": {},
   "source": [
    "## Cleaning the Data"
   ]
  },
  {
   "cell_type": "code",
   "execution_count": 27,
   "metadata": {},
   "outputs": [
    {
     "data": {
      "text/plain": [
       "['GENESIS',\n",
       " 'Nilalang ng Dios ang sanglibutan',\n",
       " 'Nang pasimula ay nilikha ng Dios ang langit at ang lupa',\n",
       " 'At ang lupa ay walang anyo at walang laman at ang kadiliman ay sumasa ibabaw ng kalaliman at ang Espiritu ng Dios ay sumasa ibabaw ng tubig',\n",
       " 'At sinabi ng Dios Magkaroon ng liwanag at nagkaroon ng liwanag',\n",
       " 'At nakita ng Dios ang liwanag na mabuti at inihiwalay ng Dios ang liwanag sa kadiliman',\n",
       " 'At tinawag ng Dios ang liwanag na Araw at tinawag niya ang kadiliman na Gabi At nagkahapon at nagkaumaga ang unang araw',\n",
       " 'At sinabi ng Dios Magkaroon ng isang kalawakan sa gitna ng tubig at mahiwalay ang tubig sa kapuwa tubig',\n",
       " 'At ginawa ng Dios ang kalawakan at inihiwalay ang tubig na nasa ilalim ng kalawakan sa tubig na nasa itaas ng kalawakan at nagkagayon',\n",
       " 'At tinawag ng Dios ang kalawakan na Langit At nagkahapon at nagkaumaga ang ikalawang araw',\n",
       " 'At sinabi ng Dios Mapisan ang tubig na nasa silong ng langit sa isang dako at lumitaw ang katuyuan at nagkagayon',\n",
       " 'At tinawag ng Dios ang katuyuan na Lupa at ang kapisanan ng tubig ay tinawag niyang mga Dagat at nakita ng Dios na mabuti',\n",
       " 'At sinabi ng Dios Sibulan ang lupa ng damo pananim na nagkakabinhi at punong kahoy na namumunga ayon sa kaniyang pagkakahoy na taglay ang kaniyang binhi sa ibabaw ng lupa at nagkagayon',\n",
       " 'At ang lupa ay sinibulan ng damo pananim na nagkakabinhi ayon sa kaniyang pagkapananim at ng punong kahoy na namumunga na taglay ang kaniyang binhi ayon sa kaniyang pagkakahoy at nakita ng Dios na mabuti',\n",
       " 'At nagkahapon at nagkaumaga ang ikatlong araw',\n",
       " 'At sinabi ng Dios Magkaroon ng mga tanglaw sa kalawakan ng langit upang maghiwalay ng araw sa gabi at maging pinakatanda at pinakabahagi ng panahon ng mga araw at ng mga taon',\n",
       " 'At maging pinakatanglaw sa kalawakan ng langit upang tumanglaw sa ibabaw ng lupa at nagkagayon',\n",
       " 'At nilikha ng Dios ang dalawang malaking tanglaw ang malaking tanglaw ay upang magpuno sa araw at ang maliit na tanglaw ay upang magpuno sa gabi nilikha rin niya ang mga bituin',\n",
       " 'At mga inilagay ng Dios sa kalawakan ng langit upang tumanglaw sa ibabaw ng lupa',\n",
       " 'At upang magpuno sa araw at sa gabi at upang maghiwalay ng liwanag sa kadiliman at nakita ng Dios na mabuti',\n",
       " 'At nagkahapon at nagkaumaga ang ikaapat na araw']"
      ]
     },
     "execution_count": 27,
     "metadata": {},
     "output_type": "execute_result"
    }
   ],
   "source": [
    "import string\n",
    "\n",
    "def remove_punct(pText):\n",
    "    text_nopumct = \"\".join([char for char in pText if char not in string.punctuation])\n",
    "    return text_nopumct\n",
    "\n",
    "cleaned_sp_tl = [remove_punct(word) for word in parsed_sp_tl_raw]\n",
    "\n",
    "cleaned_sp_tl[0:500]"
   ]
  },
  {
   "cell_type": "code",
   "execution_count": 29,
   "metadata": {},
   "outputs": [
    {
     "data": {
      "text/html": [
       "<div>\n",
       "<style scoped>\n",
       "    .dataframe tbody tr th:only-of-type {\n",
       "        vertical-align: middle;\n",
       "    }\n",
       "\n",
       "    .dataframe tbody tr th {\n",
       "        vertical-align: top;\n",
       "    }\n",
       "\n",
       "    .dataframe thead th {\n",
       "        text-align: right;\n",
       "    }\n",
       "</style>\n",
       "<table border=\"1\" class=\"dataframe\">\n",
       "  <thead>\n",
       "    <tr style=\"text-align: right;\">\n",
       "      <th></th>\n",
       "      <th>Sentence</th>\n",
       "      <th>Determiner</th>\n",
       "      <th>Tokenized</th>\n",
       "    </tr>\n",
       "  </thead>\n",
       "  <tbody>\n",
       "    <tr>\n",
       "      <th>0</th>\n",
       "      <td>GENESIS</td>\n",
       "      <td>[G, E, N, E, S, I, S]</td>\n",
       "      <td>[GENESIS]</td>\n",
       "    </tr>\n",
       "    <tr>\n",
       "      <th>1</th>\n",
       "      <td>Nilalang ng Dios ang sanglibutan.</td>\n",
       "      <td>[N, i, l, a, l, a, n, g,  , n, g,  , D, i, o, ...</td>\n",
       "      <td>[Nilalang, ng, Dios, ang, sanglibutan, ]</td>\n",
       "    </tr>\n",
       "    <tr>\n",
       "      <th>2</th>\n",
       "      <td>Nang pasimula ay nilikha ng Dios ang langit at...</td>\n",
       "      <td>[N, a, n, g,  , p, a, s, i, m, u, l, a,  , a, ...</td>\n",
       "      <td>[Nang, pasimula, ay, nilikha, ng, Dios, ang, l...</td>\n",
       "    </tr>\n",
       "    <tr>\n",
       "      <th>3</th>\n",
       "      <td>At ang lupa ay walang anyo at walang laman; at...</td>\n",
       "      <td>[A, t,  , a, n, g,  , l, u, p, a,  , a, y,  , ...</td>\n",
       "      <td>[At, ang, lupa, ay, walang, anyo, at, walang, ...</td>\n",
       "    </tr>\n",
       "    <tr>\n",
       "      <th>4</th>\n",
       "      <td>At sinabi ng Dios Magkaroon ng liwanag; at nag...</td>\n",
       "      <td>[A, t,  , s, i, n, a, b, i,  , n, g,  , D, i, ...</td>\n",
       "      <td>[At, sinabi, ng, Dios, Magkaroon, ng, liwanag,...</td>\n",
       "    </tr>\n",
       "  </tbody>\n",
       "</table>\n",
       "</div>"
      ],
      "text/plain": [
       "                                            Sentence  \\\n",
       "0                                            GENESIS   \n",
       "1                  Nilalang ng Dios ang sanglibutan.   \n",
       "2  Nang pasimula ay nilikha ng Dios ang langit at...   \n",
       "3  At ang lupa ay walang anyo at walang laman; at...   \n",
       "4  At sinabi ng Dios Magkaroon ng liwanag; at nag...   \n",
       "\n",
       "                                          Determiner  \\\n",
       "0                              [G, E, N, E, S, I, S]   \n",
       "1  [N, i, l, a, l, a, n, g,  , n, g,  , D, i, o, ...   \n",
       "2  [N, a, n, g,  , p, a, s, i, m, u, l, a,  , a, ...   \n",
       "3  [A, t,  , a, n, g,  , l, u, p, a,  , a, y,  , ...   \n",
       "4  [A, t,  , s, i, n, a, b, i,  , n, g,  , D, i, ...   \n",
       "\n",
       "                                           Tokenized  \n",
       "0                                          [GENESIS]  \n",
       "1           [Nilalang, ng, Dios, ang, sanglibutan, ]  \n",
       "2  [Nang, pasimula, ay, nilikha, ng, Dios, ang, l...  \n",
       "3  [At, ang, lupa, ay, walang, anyo, at, walang, ...  \n",
       "4  [At, sinabi, ng, Dios, Magkaroon, ng, liwanag,...  "
      ]
     },
     "execution_count": 29,
     "metadata": {},
     "output_type": "execute_result"
    }
   ],
   "source": [
    "import re\n",
    "\n",
    "def tokenize(text):\n",
    "    tokens = re.split('\\W+', text)\n",
    "    return tokens\n",
    "\n",
    "\n",
    "tokenized_sp_tl = [tokenize(word) for word in parsed_sp_tl_raw]\n",
    "\n",
    "dict_sm_tl['Tokenized'] = tokenized_sp_tl\n",
    "dict_sm_tl.head()"
   ]
  },
  {
   "cell_type": "code",
   "execution_count": 31,
   "metadata": {},
   "outputs": [
    {
     "data": {
      "text/html": [
       "<div>\n",
       "<style scoped>\n",
       "    .dataframe tbody tr th:only-of-type {\n",
       "        vertical-align: middle;\n",
       "    }\n",
       "\n",
       "    .dataframe tbody tr th {\n",
       "        vertical-align: top;\n",
       "    }\n",
       "\n",
       "    .dataframe thead th {\n",
       "        text-align: right;\n",
       "    }\n",
       "</style>\n",
       "<table border=\"1\" class=\"dataframe\">\n",
       "  <thead>\n",
       "    <tr style=\"text-align: right;\">\n",
       "      <th></th>\n",
       "      <th>Sentence</th>\n",
       "      <th>Determiner</th>\n",
       "      <th>Tokenized</th>\n",
       "    </tr>\n",
       "  </thead>\n",
       "  <tbody>\n",
       "    <tr>\n",
       "      <th>0</th>\n",
       "      <td>GENESIS</td>\n",
       "      <td>[]</td>\n",
       "      <td>[GENESIS]</td>\n",
       "    </tr>\n",
       "    <tr>\n",
       "      <th>1</th>\n",
       "      <td>Nilalang ng Dios ang sanglibutan.</td>\n",
       "      <td>[ng, ang]</td>\n",
       "      <td>[Nilalang, ng, Dios, ang, sanglibutan, ]</td>\n",
       "    </tr>\n",
       "    <tr>\n",
       "      <th>2</th>\n",
       "      <td>Nang pasimula ay nilikha ng Dios ang langit at...</td>\n",
       "      <td>[Nang, ay, ng, ang, ang]</td>\n",
       "      <td>[Nang, pasimula, ay, nilikha, ng, Dios, ang, l...</td>\n",
       "    </tr>\n",
       "    <tr>\n",
       "      <th>3</th>\n",
       "      <td>At ang lupa ay walang anyo at walang laman; at...</td>\n",
       "      <td>[ang, ay, ang, ay, ng, ang, ng, ay, ng]</td>\n",
       "      <td>[At, ang, lupa, ay, walang, anyo, at, walang, ...</td>\n",
       "    </tr>\n",
       "    <tr>\n",
       "      <th>4</th>\n",
       "      <td>At sinabi ng Dios Magkaroon ng liwanag; at nag...</td>\n",
       "      <td>[ng, ng, ng]</td>\n",
       "      <td>[At, sinabi, ng, Dios, Magkaroon, ng, liwanag,...</td>\n",
       "    </tr>\n",
       "  </tbody>\n",
       "</table>\n",
       "</div>"
      ],
      "text/plain": [
       "                                            Sentence  \\\n",
       "0                                            GENESIS   \n",
       "1                  Nilalang ng Dios ang sanglibutan.   \n",
       "2  Nang pasimula ay nilikha ng Dios ang langit at...   \n",
       "3  At ang lupa ay walang anyo at walang laman; at...   \n",
       "4  At sinabi ng Dios Magkaroon ng liwanag; at nag...   \n",
       "\n",
       "                                Determiner  \\\n",
       "0                                       []   \n",
       "1                                [ng, ang]   \n",
       "2                 [Nang, ay, ng, ang, ang]   \n",
       "3  [ang, ay, ang, ay, ng, ang, ng, ay, ng]   \n",
       "4                             [ng, ng, ng]   \n",
       "\n",
       "                                           Tokenized  \n",
       "0                                          [GENESIS]  \n",
       "1           [Nilalang, ng, Dios, ang, sanglibutan, ]  \n",
       "2  [Nang, pasimula, ay, nilikha, ng, Dios, ang, l...  \n",
       "3  [At, ang, lupa, ay, walang, anyo, at, walang, ...  \n",
       "4  [At, sinabi, ng, Dios, Magkaroon, ng, liwanag,...  "
      ]
     },
     "execution_count": 31,
     "metadata": {},
     "output_type": "execute_result"
    }
   ],
   "source": [
    "def check_dtmn(sentence, dtmn_list):\n",
    "    \"\"\"\n",
    "    This function checks if the sentence contains a determiner.\n",
    "    \"\"\"\n",
    "    text = [word for word in sentence if word in dtmn_list]\n",
    "    return text\n",
    "\n",
    "\n",
    "dict_sm_tl['Determiner'] = dict_sm_tl['Tokenized'].apply(lambda x: check_dtmn(x, parsed_tl_dtmn))\n",
    "\n",
    "dict_sm_tl.head()"
   ]
  },
  {
   "cell_type": "code",
   "execution_count": null,
   "metadata": {},
   "outputs": [],
   "source": []
  }
 ],
 "metadata": {
  "kernelspec": {
   "display_name": "Python 3.10.1 64-bit",
   "language": "python",
   "name": "python3"
  },
  "language_info": {
   "codemirror_mode": {
    "name": "ipython",
    "version": 3
   },
   "file_extension": ".py",
   "mimetype": "text/x-python",
   "name": "python",
   "nbconvert_exporter": "python",
   "pygments_lexer": "ipython3",
   "version": "3.10.1"
  },
  "orig_nbformat": 4,
  "vscode": {
   "interpreter": {
    "hash": "fd5e40cb983109c15fc1053f6f3e661cc97e68e07c1758cdbd2441c60186ce19"
   }
  }
 },
 "nbformat": 4,
 "nbformat_minor": 2
}
