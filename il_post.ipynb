{
 "cells": [
  {
   "cell_type": "markdown",
   "metadata": {},
   "source": [
    "# Ilokano Part of Speech Tagger"
   ]
  },
  {
   "cell_type": "markdown",
   "metadata": {},
   "source": [
    "## Initialization"
   ]
  },
  {
   "cell_type": "code",
   "execution_count": 5,
   "metadata": {},
   "outputs": [
    {
     "data": {
      "text/html": [
       "<div>\n",
       "<style scoped>\n",
       "    .dataframe tbody tr th:only-of-type {\n",
       "        vertical-align: middle;\n",
       "    }\n",
       "\n",
       "    .dataframe tbody tr th {\n",
       "        vertical-align: top;\n",
       "    }\n",
       "\n",
       "    .dataframe thead th {\n",
       "        text-align: right;\n",
       "    }\n",
       "</style>\n",
       "<table border=\"1\" class=\"dataframe\">\n",
       "  <thead>\n",
       "    <tr style=\"text-align: right;\">\n",
       "      <th></th>\n",
       "      <th>Sentence</th>\n",
       "    </tr>\n",
       "  </thead>\n",
       "  <tbody>\n",
       "    <tr>\n",
       "      <th>0</th>\n",
       "      <td>GENESIS</td>\n",
       "    </tr>\n",
       "    <tr>\n",
       "      <th>1</th>\n",
       "      <td>Ti Aramid ti Dios a Namarsua.</td>\n",
       "    </tr>\n",
       "    <tr>\n",
       "      <th>2</th>\n",
       "      <td>Idi punganay ti Dios pinarsuana dagiti langlan...</td>\n",
       "    </tr>\n",
       "    <tr>\n",
       "      <th>3</th>\n",
       "      <td>Ket ti daga adda idi a gosogoso ken awan nagya...</td>\n",
       "    </tr>\n",
       "    <tr>\n",
       "      <th>4</th>\n",
       "      <td>Ket ti Dios kinunana, Adda coma lawag: ket nag...</td>\n",
       "    </tr>\n",
       "  </tbody>\n",
       "</table>\n",
       "</div>"
      ],
      "text/plain": [
       "                                            Sentence\n",
       "0                                            GENESIS\n",
       "1                      Ti Aramid ti Dios a Namarsua.\n",
       "2  Idi punganay ti Dios pinarsuana dagiti langlan...\n",
       "3  Ket ti daga adda idi a gosogoso ken awan nagya...\n",
       "4  Ket ti Dios kinunana, Adda coma lawag: ket nag..."
      ]
     },
     "execution_count": 5,
     "metadata": {},
     "output_type": "execute_result"
    }
   ],
   "source": [
    "import pandas as pd\n",
    "\n",
    "# Opening the file\n",
    "sample_il_raw = open(\"src/text data/Bible_Ilokano.txt\").read()\n",
    "\n",
    "# Splitting the text into sentences\n",
    "parsed_sp_il_raw = sample_il_raw.split(\"\\n\")\n",
    "\n",
    "# Creating a dataframe\n",
    "dict_sm_il = pd.DataFrame(parsed_sp_il_raw, columns = ['Sentence'])\n",
    "\n",
    "# Printing the first 5 rows of the DataFrame\n",
    "dict_sm_il.head()"
   ]
  },
  {
   "cell_type": "markdown",
   "metadata": {},
   "source": [
    "## Cleaning the Data"
   ]
  },
  {
   "cell_type": "markdown",
   "metadata": {},
   "source": [
    "### Removing the Punctuation/s"
   ]
  },
  {
   "cell_type": "code",
   "execution_count": 6,
   "metadata": {},
   "outputs": [],
   "source": [
    "import string\n",
    "\n",
    "def remove_punct(Text):\n",
    "    text_nopumct = \"\".join([char for char in Text if char not in string.punctuation])\n",
    "    return text_nopumct\n",
    "\n",
    "cleaned_sp_il = [remove_punct(word) for word in parsed_sp_il_raw]\n"
   ]
  },
  {
   "cell_type": "markdown",
   "metadata": {},
   "source": [
    "### Tokenizing"
   ]
  },
  {
   "cell_type": "code",
   "execution_count": 7,
   "metadata": {},
   "outputs": [
    {
     "data": {
      "text/html": [
       "<div>\n",
       "<style scoped>\n",
       "    .dataframe tbody tr th:only-of-type {\n",
       "        vertical-align: middle;\n",
       "    }\n",
       "\n",
       "    .dataframe tbody tr th {\n",
       "        vertical-align: top;\n",
       "    }\n",
       "\n",
       "    .dataframe thead th {\n",
       "        text-align: right;\n",
       "    }\n",
       "</style>\n",
       "<table border=\"1\" class=\"dataframe\">\n",
       "  <thead>\n",
       "    <tr style=\"text-align: right;\">\n",
       "      <th></th>\n",
       "      <th>Sentence</th>\n",
       "      <th>Tokenized</th>\n",
       "    </tr>\n",
       "  </thead>\n",
       "  <tbody>\n",
       "    <tr>\n",
       "      <th>0</th>\n",
       "      <td>GENESIS</td>\n",
       "      <td>[genesis]</td>\n",
       "    </tr>\n",
       "    <tr>\n",
       "      <th>1</th>\n",
       "      <td>Ti Aramid ti Dios a Namarsua.</td>\n",
       "      <td>[ti, aramid, ti, dios, a, namarsua, ]</td>\n",
       "    </tr>\n",
       "    <tr>\n",
       "      <th>2</th>\n",
       "      <td>Idi punganay ti Dios pinarsuana dagiti langlan...</td>\n",
       "      <td>[idi, punganay, ti, dios, pinarsuana, dagiti, ...</td>\n",
       "    </tr>\n",
       "    <tr>\n",
       "      <th>3</th>\n",
       "      <td>Ket ti daga adda idi a gosogoso ken awan nagya...</td>\n",
       "      <td>[ket, ti, daga, adda, idi, a, gosogoso, ken, a...</td>\n",
       "    </tr>\n",
       "    <tr>\n",
       "      <th>4</th>\n",
       "      <td>Ket ti Dios kinunana, Adda coma lawag: ket nag...</td>\n",
       "      <td>[ket, ti, dios, kinunana, adda, coma, lawag, k...</td>\n",
       "    </tr>\n",
       "  </tbody>\n",
       "</table>\n",
       "</div>"
      ],
      "text/plain": [
       "                                            Sentence  \\\n",
       "0                                            GENESIS   \n",
       "1                      Ti Aramid ti Dios a Namarsua.   \n",
       "2  Idi punganay ti Dios pinarsuana dagiti langlan...   \n",
       "3  Ket ti daga adda idi a gosogoso ken awan nagya...   \n",
       "4  Ket ti Dios kinunana, Adda coma lawag: ket nag...   \n",
       "\n",
       "                                           Tokenized  \n",
       "0                                          [genesis]  \n",
       "1              [ti, aramid, ti, dios, a, namarsua, ]  \n",
       "2  [idi, punganay, ti, dios, pinarsuana, dagiti, ...  \n",
       "3  [ket, ti, daga, adda, idi, a, gosogoso, ken, a...  \n",
       "4  [ket, ti, dios, kinunana, adda, coma, lawag, k...  "
      ]
     },
     "execution_count": 7,
     "metadata": {},
     "output_type": "execute_result"
    }
   ],
   "source": [
    "import re\n",
    "\n",
    "def tokenize(text):\n",
    "    tokens = re.split('\\W+', text.lower())\n",
    "    return tokens\n",
    "\n",
    "\n",
    "tokenized_sp_tl = [tokenize(word) for word in parsed_sp_il_raw]\n",
    "\n",
    "dict_sm_il['Tokenized'] = tokenized_sp_tl\n",
    "dict_sm_il.head()"
   ]
  },
  {
   "cell_type": "markdown",
   "metadata": {},
   "source": [
    "## Viterbi Algorithm"
   ]
  },
  {
   "cell_type": "code",
   "execution_count": null,
   "metadata": {},
   "outputs": [],
   "source": []
  }
 ],
 "metadata": {
  "kernelspec": {
   "display_name": "Python 3.10.1 64-bit",
   "language": "python",
   "name": "python3"
  },
  "language_info": {
   "codemirror_mode": {
    "name": "ipython",
    "version": 3
   },
   "file_extension": ".py",
   "mimetype": "text/x-python",
   "name": "python",
   "nbconvert_exporter": "python",
   "pygments_lexer": "ipython3",
   "version": "3.10.1"
  },
  "orig_nbformat": 4,
  "vscode": {
   "interpreter": {
    "hash": "fd5e40cb983109c15fc1053f6f3e661cc97e68e07c1758cdbd2441c60186ce19"
   }
  }
 },
 "nbformat": 4,
 "nbformat_minor": 2
}
