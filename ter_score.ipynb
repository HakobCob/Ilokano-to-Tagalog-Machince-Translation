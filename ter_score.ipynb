{
 "cells": [
  {
   "cell_type": "markdown",
   "metadata": {},
   "source": [
    "# TER Scoring"
   ]
  },
  {
   "cell_type": "code",
   "execution_count": null,
   "metadata": {},
   "outputs": [],
   "source": [
    "import pandas as pd\n",
    "import sacrebleu\n",
    "\n",
    "# Read the tagalog POS dataset\n",
    "dict_tl_il_result = pd.read_json('src/json data/Document Translator/dict_tl_il_result.json')\n",
    "\n",
    "system_op_list = dict_tl_il_result['System Output'].tolist()\n",
    "target_op_list = dict_tl_il_result['Target Output'].tolist()\n"
   ]
  },
  {
   "cell_type": "code",
   "execution_count": null,
   "metadata": {},
   "outputs": [],
   "source": [
    "with open(\"src/text data/Document Translator/ter_scores.txt\",\"w\", encoding=\"utf-8\") as df:\n",
    "    temp_index = 0\n",
    "    total_ter_score = 0\n",
    "    score_list = []\n",
    "\n",
    "    target = [['']]\n",
    "    system = ['']\n",
    "\n",
    "    for target_op in target_op_list:\n",
    "        system_op = system_op_list[temp_index]\n",
    "        \n",
    "        system[0] = system_op\n",
    "        target[0] = [target_op]\n",
    "        \n",
    "        score = str(sacrebleu.corpus_ter(system, target))\n",
    "\n",
    "        for i in score.split():\n",
    "            try:\n",
    "                #trying to convert i to float\n",
    "                result = float(i)\n",
    "                #break the loop if i is the first string that's successfully converted\n",
    "                break\n",
    "            except:\n",
    "                continue\n",
    "            \n",
    "        \"\"\"\n",
    "            Writing the result to a file\n",
    "        \"\"\"\n",
    "\n",
    "        df.write(\"Reference: \" + target_op + \"\\n\")\n",
    "        df.write(\"Machine Translation: \" + system_op + \"\\n\")\n",
    "        df.write(\"TER Score: \" + str(result) + \"\\n\")\n",
    "        df.write(\"\\n\")\n",
    "        \n",
    "        score_list.append(result)\n",
    "        total_ter_score += result\n",
    "        temp_index += 1\n",
    "\n",
    "    dict_tl_il_result['TER Score'] = score_list\n",
    "    average_ter_score = total_ter_score / len(target_op_list)\n",
    "    print(\"Average TER Score: \", average_ter_score)\n",
    "    df.write(\"Average TER Score: \" + str(average_ter_score))"
   ]
  },
  {
   "cell_type": "code",
   "execution_count": null,
   "metadata": {},
   "outputs": [],
   "source": [
    "dict_tl_il_result.head(50)"
   ]
  },
  {
   "cell_type": "code",
   "execution_count": null,
   "metadata": {},
   "outputs": [],
   "source": [
    "import json\n",
    "\n",
    "dict_tl_il_ter_score = dict_tl_il_result.to_dict('records')\n",
    "\n",
    "try:\n",
    "    with open(\"src/json data/Document Translator/dict_tl_il_ter_score.json\", \"w\") as outfile:\n",
    "        json.dump(dict_tl_il_ter_score, outfile)\n",
    "    print(\"successfully saved the dict_tl_il_ter_score.json file\")\n",
    "except:\n",
    "    print(\"Error in saving the dict_tl_il_ter_score.json file\")"
   ]
  }
 ],
 "metadata": {
  "kernelspec": {
   "display_name": "Python 3.10.5 64-bit",
   "language": "python",
   "name": "python3"
  },
  "language_info": {
   "codemirror_mode": {
    "name": "ipython",
    "version": 3
   },
   "file_extension": ".py",
   "mimetype": "text/x-python",
   "name": "python",
   "nbconvert_exporter": "python",
   "pygments_lexer": "ipython3",
   "version": "3.10.5"
  },
  "orig_nbformat": 4,
  "vscode": {
   "interpreter": {
    "hash": "c1d54cc6ba22d92170a9f9c24d6077688435e22a85a4273e6fe4e4e6bdebfd02"
   }
  }
 },
 "nbformat": 4,
 "nbformat_minor": 2
}
