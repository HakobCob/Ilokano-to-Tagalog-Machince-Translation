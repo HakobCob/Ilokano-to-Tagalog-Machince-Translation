{
 "cells": [
  {
   "cell_type": "markdown",
   "metadata": {},
   "source": [
    "# Example-Based Model"
   ]
  },
  {
   "cell_type": "markdown",
   "metadata": {},
   "source": [
    "## Initialization of the Datasets\n"
   ]
  },
  {
   "cell_type": "markdown",
   "metadata": {},
   "source": [
    "### Source Dataset"
   ]
  },
  {
   "cell_type": "markdown",
   "metadata": {},
   "source": [
    "#### Storing the Tagalog Part of Speech Data Set"
   ]
  },
  {
   "cell_type": "code",
   "execution_count": null,
   "metadata": {},
   "outputs": [],
   "source": [
    "import pandas as pd\n",
    "\n",
    "# Read the tagalog POS dataset\n",
    "tl_pos_data = pd.read_json('src/json data/tl_pos.json')\n",
    "\n",
    "tl_pos_data.head(2)"
   ]
  },
  {
   "cell_type": "markdown",
   "metadata": {},
   "source": [
    "#### Storing the Ilokano Part of Speech Data Set"
   ]
  },
  {
   "cell_type": "code",
   "execution_count": null,
   "metadata": {},
   "outputs": [],
   "source": [
    "# Read the ilokano POS dataset\n",
    "il_pos_data = pd.read_json('src/json data/il_pos.json')\n",
    "\n",
    "il_pos_data.head(2)"
   ]
  },
  {
   "cell_type": "markdown",
   "metadata": {},
   "source": [
    "#### Storing the Tagalog Part of Speech Structure"
   ]
  },
  {
   "cell_type": "code",
   "execution_count": null,
   "metadata": {},
   "outputs": [],
   "source": [
    "dict_sen_poss = pd.DataFrame(tl_pos_data['POS'])\n",
    "\n",
    "dict_sen_poss.columns = ['Tagalog POS']\n",
    "dict_sen_poss.head()"
   ]
  },
  {
   "cell_type": "markdown",
   "metadata": {},
   "source": [
    "#### Storing the Ilokano Part of Speech "
   ]
  },
  {
   "cell_type": "code",
   "execution_count": null,
   "metadata": {},
   "outputs": [],
   "source": [
    "dict_sen_poss['Ilokano POS'] = il_pos_data['POS']\n",
    "\n",
    "dict_sen_poss.head()"
   ]
  },
  {
   "cell_type": "markdown",
   "metadata": {},
   "source": [
    "## Storing the examples of the POS in their Dictionaries"
   ]
  },
  {
   "cell_type": "markdown",
   "metadata": {},
   "source": [
    "### In Dictionary Checker"
   ]
  },
  {
   "cell_type": "code",
   "execution_count": null,
   "metadata": {},
   "outputs": [],
   "source": [
    "def inDict(word, dict_sen_poss):\n",
    "    for index, row in dict_sen_poss.iterrows():\n",
    "        if row['Tagalog POS'] == word:\n",
    "            return row['Ilokano POS']\n",
    "    return None"
   ]
  },
  {
   "cell_type": "markdown",
   "metadata": {},
   "source": [
    "### Verb Dictionary"
   ]
  },
  {
   "cell_type": "code",
   "execution_count": null,
   "metadata": {},
   "outputs": [],
   "source": [
    "tl_verb_list = []\n",
    "il_verb_list = []\n",
    "tl_to_il_verbs = []\n",
    "sen_index = 0\n",
    "word_index = 0\n",
    "dict_tlil_verbs = pd.DataFrame(columns=['Tagalog Verb', 'Ilokano Verb'])\n",
    "\"\"\"\n",
    "instantiating the verb lists\n",
    "\"\"\"\n",
    "\n",
    "tl_sen_poss_list = dict_sen_poss['Tagalog POS']\n",
    "il_sen_poss_list = dict_sen_poss['Ilokano POS']\n",
    "\"\"\"\n",
    "putting the POS of the sentences in a list object\n",
    "\"\"\"\n",
    "\n",
    "# il_sen = il_sen_poss_list[sen_index + 1]\n",
    "# il_word = il_sen[word_index]\n",
    "# print(il_word)\n",
    "\n",
    "\n",
    "for tl_sen in tl_sen_poss_list:\n",
    "    \"\"\"\n",
    "    tl_sen is a list of POS of a sentence\n",
    "    eg. ['VB', 'DT', 'NN', 'DT', 'NN']\n",
    "    \"\"\"\n",
    "    il_sen = il_sen_poss_list[sen_index]\n",
    "    \n",
    "    for tl_word in tl_sen:\n",
    "        \"\"\"\n",
    "        tl_word is a POS of a word\n",
    "        eg. 'VB'\n",
    "        \"\"\"\n",
    "        if tl_word == 'VB':\n",
    "            \"\"\"\n",
    "            if the Tagalog POS is a verb\n",
    "            \"\"\"\n",
    "            tl_verb_list.append(tl_word) # nilalang\n",
    "            \n",
    "            try:\n",
    "                il_word = il_sen[word_index] # ti\n",
    "            except IndexError:\n",
    "                il_word = 'None'\n",
    "                \n",
    "            try:\n",
    "                next_il_word = il_sen[word_index + 1]\n",
    "            except IndexError:\n",
    "                next_il_word = 'None'\n",
    "            \"\"\"\n",
    "            getting the next word in the sentence\n",
    "            \"\"\"\n",
    "            \n",
    "            try:\n",
    "                prev_il_word = il_sen[word_index - 1]\n",
    "            except IndexError:\n",
    "                prev_il_word = 'None'\n",
    "            \"\"\"\n",
    "            getting the previous word in the sentence\n",
    "            \"\"\"\n",
    "                \n",
    "            isDone = False\n",
    "            \n",
    "            if il_word == 'VB':\n",
    "                \"\"\"\n",
    "                if VB : VB\n",
    "                if the Ilokano POS is a verb\n",
    "                \"\"\" \n",
    "                il_verb_list.append(il_word) # ti\n",
    "                isDone = True\n",
    "                \"\"\"\n",
    "                append the verb to the verb lists\n",
    "                \"\"\"\n",
    "                \n",
    "            if il_word == 'DT' and not isDone:\n",
    "                if next_il_word == 'VB':\n",
    "                    temp_word = il_word + ' ' + next_il_word\n",
    "                    il_verb_list.append(temp_word)\n",
    "                    isDone = True\n",
    "                    # tl_to_il_verbs.append((tl_sen[word_index], next_il_word))\n",
    "                    \"\"\"\n",
    "                    append the verb to the verb lists\n",
    "                    \"\"\"\n",
    "            \n",
    "            \"\"\"\n",
    "            append the POS to the verb list\n",
    "            \"\"\"\n",
    "        word_index += 1\n",
    "        \n",
    "    sen_index += 1\n",
    "        \n",
    "        \n"
   ]
  },
  {
   "cell_type": "code",
   "execution_count": null,
   "metadata": {},
   "outputs": [],
   "source": [
    "tl_sample_sen = dict_sen_poss['Tagalog POS'][1]\n",
    "il_sample_sen = dict_sen_poss['Ilokano POS'][1]\n",
    "\n",
    "tl_verb_list = []\n",
    "il_verb_list = []\n",
    "tl_to_il_verbs = []\n",
    "\n",
    "for tl_word in tl_sample_sen:\n",
    "   for il_word in il_sample_sen:\n",
    "      if tl_word == il_word and tl_word == 'VB':\n",
    "         \"\"\"\n",
    "         if the tagalog word has a pos 'VB' and the ilokano word has a pos 'VB'\n",
    "         \"\"\"\n",
    "         \n",
    "         tl_temp_index = tl_sample_sen.index(tl_word)\n",
    "         il_temp_index = il_sample_sen.index(il_word)\n",
    "         \"\"\"\n",
    "         gets the index of those words\n",
    "         \"\"\"\n",
    "         il_temp_sen = il_pos_data['Tokenized'][1]\n",
    "         tl_temp_verb = tl_pos_data['Tokenized'][1][tl_temp_index]\n",
    "         \n",
    "         try:\n",
    "            prev_pos = il_sample_sen[il_temp_index - 1]\n",
    "         except (ValueError, IndexError):\n",
    "            prev_pos = None\n",
    "         \"\"\"\n",
    "         getting the previous pos of the ilokano word\n",
    "         \"\"\"   \n",
    "         \n",
    "         if prev_pos == 'DT':\n",
    "            \"\"\"\n",
    "            if the ilokano word has a pos 'DT' before it\n",
    "            \"\"\"\n",
    "            il_temp_verb = il_temp_sen[il_temp_index - 1] + ' ' + il_temp_sen[il_temp_index]\n",
    "         else:\n",
    "            il_temp_verb = il_temp_sen[il_temp_index]\n",
    "\n",
    "tl_verb_list.append(tl_temp_verb)\n",
    "il_verb_list.append(il_temp_verb)\n",
    "il_verb_list.append('aramid')\n",
    "\n",
    "temp_word = 'try'\n",
    "\n",
    "if temp_word not in il_verb_list:\n",
    "   il_verb_list.append(temp_word)\n",
    "   \n",
    "tl_to_il_verbs.append(tl_verb_list)\n",
    "tl_to_il_verbs.append(il_verb_list)\n",
    "   \n",
    "\"\"\"\n",
    "append the tagalog word to the list\n",
    "\"\"\"\n",
    "print(tl_to_il_verbs)           \n",
    "              "
   ]
  },
  {
   "cell_type": "code",
   "execution_count": null,
   "metadata": {},
   "outputs": [],
   "source": [
    "tl_temp_tokens = tl_pos_data['Tokenized'][1]\n",
    "\n",
    "tl_temp_tokens"
   ]
  },
  {
   "cell_type": "code",
   "execution_count": null,
   "metadata": {},
   "outputs": [],
   "source": [
    "tl_sen_poss = dict_sen_poss['Tagalog POS'][1]\n",
    "tl_sen_poss"
   ]
  },
  {
   "cell_type": "code",
   "execution_count": null,
   "metadata": {},
   "outputs": [],
   "source": [
    "il_sen_poss = dict_sen_poss['Ilokano POS'][1]\n",
    "\n",
    "il_sen_poss"
   ]
  },
  {
   "cell_type": "code",
   "execution_count": null,
   "metadata": {},
   "outputs": [],
   "source": [
    "dict_tl_il_vb = pd.DataFrame(columns=['Tagalog Verb', 'Ilokano Verb'])\n",
    "dict_tl_il_vb"
   ]
  },
  {
   "cell_type": "code",
   "execution_count": null,
   "metadata": {},
   "outputs": [],
   "source": [
    "wp_index = 0\n",
    "token_list = dict_tl_il_vb['Tagalog Verb']\n",
    "temp_verb_list = []\n",
    "il_temp_verb_list = []\n",
    "\n",
    "for tl_word_pos in tl_sen_poss:\n",
    "    # print(tl_word_pos)\n",
    "    isDone = False\n",
    "    try:\n",
    "        il_word_pos = il_sen[wp_index] # ti\n",
    "    except IndexError:\n",
    "        il_word_pos = 'None'\n",
    "    try:\n",
    "        next_il_pos = il_sen[wp_index + 1]\n",
    "    except IndexError:\n",
    "        next_il_pos = 'None'\n",
    "    try:\n",
    "        prev_il_pos = il_sen[wp_index - 1]\n",
    "    except IndexError:\n",
    "        prev_il_pos = 'None'\n",
    "        \n",
    "    if tl_word_pos == 'VB':\n",
    "        print(tl_word_pos)\n",
    "        tl_temp_verb = tl_pos_data['Tokenized'][1][wp_index]\n",
    "        print(tl_temp_verb)\n",
    "        \n",
    "        if len(token_list) == 0:\n",
    "            temp_verb_list.append(tl_temp_verb)\n",
    "            isDone = True\n",
    "            \n",
    "        for token in token_list:\n",
    "            if token == tl_temp_verb:\n",
    "                temp_index = token_list.index(token)\n",
    "                break\n",
    "            \n",
    "        if il_word_pos == 'VB':\n",
    "            il_temp_verb_list.append(il_temp_verb)\n",
    "            isDone = True\n",
    "     \n",
    "    wp_index += 1\n",
    "    \n",
    "\n",
    "        "
   ]
  },
  {
   "cell_type": "code",
   "execution_count": null,
   "metadata": {},
   "outputs": [],
   "source": [
    "dict_tl_il_vb['Tagalog Verb'] = temp_verb_list\n",
    "\n",
    "# temp_token_list = dict_tl_il_vb['Tagalog Verb']\n",
    "\n",
    "# temp_verb_list = []\n",
    "\n",
    "# temp_verb_list.append('try')\n",
    "# temp_verb_list\n",
    "# dict_tl_il_vb['Tagalog Verb'] = temp_verb_list\n",
    "# print(dict_tl_il_vb['Tagalog Verb'])"
   ]
  },
  {
   "cell_type": "code",
   "execution_count": null,
   "metadata": {},
   "outputs": [],
   "source": [
    "for token in temp_token_list:\n",
    "    print(token)"
   ]
  },
  {
   "cell_type": "code",
   "execution_count": null,
   "metadata": {},
   "outputs": [],
   "source": [
    "def match_tl_il_pos(tl_sen_poss_list, il_sen_poss_list):\n",
    "    \"\"\"\n",
    "    This function matches the POS of the sentences in the Tagalog and Ilokano datasets\n",
    "    \"\"\"\n",
    "    tl_verb_list = []\n",
    "    il_verb_list = []\n",
    "    tl_to_il_verbs = []\n",
    "    \"\"\"\n",
    "    instantiating the verb lists\n",
    "    \"\"\"\n",
    "    \n",
    "    for tl_sen_pos in tl_sen_poss_list:\n",
    "        \"\"\"\n",
    "        tl_sen is a list of POS of a sentence\n",
    "        eg. ['VB', 'DT', 'NN', 'DT', 'NN']\n",
    "        \"\"\"\n",
    "        il_sen = il_sen_poss_list[sp_index]\n",
    "        wp_index = 0\n",
    "        \n",
    "        for tl_word_pos in tl_sen_pos:\n",
    "            \"\"\"\n",
    "            tl_word_pos is a POS of a word\n",
    "            eg. 'VB'\n",
    "            \"\"\"\n",
    "            isDone = False\n",
    "            \n",
    "            try:\n",
    "                il_word_pos = il_sen[wp_index] # ti\n",
    "            except IndexError:\n",
    "                il_word_pos = 'None'\n",
    "            try:\n",
    "                next_il_pos = il_sen[wp_index + 1]\n",
    "            except IndexError:\n",
    "                next_il_pos = 'None'\n",
    "            try:\n",
    "                prev_il_pos = il_sen[wp_index - 1]\n",
    "            except IndexError:\n",
    "                prev_il_pos = 'None'\n",
    "            \"\"\"\n",
    "            getting the current, next, and previous POS in the sentence\n",
    "            \"\"\"\n",
    "            \n",
    "            \n",
    "            # Matching Conditions\n",
    "            # 1. VB\n",
    "            if tl_word_pos == 'VB':\n",
    "                \"\"\"\n",
    "                Verb Matching\n",
    "                if the POS is a verb, append the index of the verb to the verb list\n",
    "                \"\"\"\n",
    "                tl_temp_verb = tl_pos_data['Tokenized'][sp_index][wp_index]\n",
    "                    \n",
    "                if tl_temp_verb not in dict_tl_il_vb['Tagalog Verb']:\n",
    "                    \"\"\"\n",
    "                    if the word is not in tagalog verb dictionary \n",
    "                    \"\"\"\n",
    "                    dict_tl_il_vb['Tagalog Verb'].add(tl_temp_verb)\n",
    "                \n",
    "                # Checks the VB in the Ilokano sentence\n",
    "                if il_word_pos == 'VB':\n",
    "                    \"\"\"\n",
    "                    if VB : VB\n",
    "                    if the Ilokano POS is a verb\n",
    "                    \"\"\"\n",
    "                    il_temp_verb = il_pos_data['Tokenized'][sp_index][wp_index]\n",
    "                    if il_temp_verb not in dict_tl_il_vb['Ilokano Verb']:\n",
    "                        \"\"\"\n",
    "                        if the word is not in ilokano verb dictionary \n",
    "                        \"\"\"\n",
    "                        dict_tl_il_vb['Ilokano Verb'].add(il_temp_verb)\n",
    "                    il_verb_list.append(il_word_pos)\n",
    "                    isDone = True\n",
    "                # end of if il_word_pos == 'VB'\n",
    "                \n",
    "                if il_word_pos == 'DT' and next_il_pos == 'VB' and not isDone:\n",
    "                    \"\"\"\n",
    "                    if VB : DT VB\n",
    "                    if the Ilokano current POS is a determiner and the next POS is a verb\n",
    "                    \"\"\"\n",
    "                    il_verb_list.append(next_il_pos)\n",
    "                    isDone = True\n",
    "                # end of if il_word_pos == 'DT' and next_il_pos == 'VB'   \n",
    "            wp_index += 1\n",
    "        \n",
    "        sp_index += 1\n",
    "        \n",
    "\n"
   ]
  },
  {
   "cell_type": "code",
   "execution_count": null,
   "metadata": {},
   "outputs": [],
   "source": [
    "temp_word = ['try']\n",
    "temp_word2 = ['lang']\n",
    "temp_word3 = ['ito']\n",
    "temp_list = []\n",
    "\n",
    "temp_list.append(temp_word)\n",
    "temp_list.append(temp_word2)\n",
    "temp_list[0].append(temp_word3[0])\n",
    "\n",
    "temp_list"
   ]
  },
  {
   "cell_type": "code",
   "execution_count": null,
   "metadata": {},
   "outputs": [],
   "source": []
  }
 ],
 "metadata": {
  "kernelspec": {
   "display_name": "Python 3.10.1 64-bit",
   "language": "python",
   "name": "python3"
  },
  "language_info": {
   "codemirror_mode": {
    "name": "ipython",
    "version": 3
   },
   "file_extension": ".py",
   "mimetype": "text/x-python",
   "name": "python",
   "nbconvert_exporter": "python",
   "pygments_lexer": "ipython3",
   "version": "3.10.1"
  },
  "orig_nbformat": 4,
  "vscode": {
   "interpreter": {
    "hash": "fd5e40cb983109c15fc1053f6f3e661cc97e68e07c1758cdbd2441c60186ce19"
   }
  }
 },
 "nbformat": 4,
 "nbformat_minor": 2
}
