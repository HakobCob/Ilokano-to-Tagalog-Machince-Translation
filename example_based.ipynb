{
 "cells": [
  {
   "cell_type": "markdown",
   "metadata": {},
   "source": [
    "# Example-Based Model"
   ]
  },
  {
   "cell_type": "markdown",
   "metadata": {},
   "source": [
    "## Initialization of the Datasets\n"
   ]
  },
  {
   "cell_type": "markdown",
   "metadata": {},
   "source": [
    "### Source Dataset"
   ]
  },
  {
   "cell_type": "markdown",
   "metadata": {},
   "source": [
    "#### Storing the Tagalog Part of Speech Data Set"
   ]
  },
  {
   "cell_type": "code",
   "execution_count": null,
   "metadata": {},
   "outputs": [],
   "source": [
    "import pandas as pd\n",
    "\n",
    "# Read the tagalog POS dataset\n",
    "tl_pos_data = pd.read_json('src/json data/tl_pos.json')\n",
    "\n",
    "tl_pos_data.head()"
   ]
  },
  {
   "cell_type": "markdown",
   "metadata": {},
   "source": [
    "#### Storing the Ilokano Part of Speech Data Set"
   ]
  },
  {
   "cell_type": "code",
   "execution_count": null,
   "metadata": {},
   "outputs": [],
   "source": [
    "# Read the ilokano POS dataset\n",
    "il_pos_data = pd.read_json('src/json data/il_pos.json')\n",
    "\n",
    "il_pos_data.head()"
   ]
  },
  {
   "cell_type": "markdown",
   "metadata": {},
   "source": [
    "#### Storing the Tagalog Part of Speech Structure"
   ]
  },
  {
   "cell_type": "code",
   "execution_count": null,
   "metadata": {},
   "outputs": [],
   "source": [
    "dict_sen_poss = pd.DataFrame(tl_pos_data['POS'])\n",
    "\n",
    "dict_sen_poss.columns = ['Tagalog POS']"
   ]
  },
  {
   "cell_type": "markdown",
   "metadata": {},
   "source": [
    "#### Storing the Ilokano Part of Speech "
   ]
  },
  {
   "cell_type": "code",
   "execution_count": null,
   "metadata": {},
   "outputs": [],
   "source": [
    "dict_sen_poss['Ilokano POS'] = il_pos_data['POS']\n",
    "\n",
    "dict_sen_poss.head(50)"
   ]
  },
  {
   "cell_type": "markdown",
   "metadata": {},
   "source": [
    "### Verb Tagalog to Ilokano Dictionary"
   ]
  },
  {
   "cell_type": "code",
   "execution_count": null,
   "metadata": {},
   "outputs": [],
   "source": [
    "tl_sen_poss_list = dict_sen_poss['Tagalog POS']\n",
    "il_sen_poss_list = dict_sen_poss['Ilokano POS']\n",
    "\"\"\"\n",
    "putting the POS of the sentences in a list object\n",
    "\"\"\"\n",
    "\n",
    "dict_tl_il_vb = pd.DataFrame(columns=['Tagalog Verb', 'Ilokano Verb'])\n",
    "dict_tl_il_nn = pd.DataFrame(columns=['Tagalog Noun', 'Ilokano Noun'])"
   ]
  },
  {
   "cell_type": "markdown",
   "metadata": {},
   "source": [
    "## Appending in the List"
   ]
  },
  {
   "cell_type": "markdown",
   "metadata": {},
   "source": [
    "### For Verb List"
   ]
  },
  {
   "cell_type": "code",
   "execution_count": null,
   "metadata": {},
   "outputs": [],
   "source": [
    "def append_vb_list(tl_verb, tl_verb_list, il_verb, il_verb_list, curr_il_pos, next_il_pos, next2_il_pos, matched, sp_index, wp_index):\n",
    "    if tl_verb not in tl_verb_list:\n",
    "        \"\"\"\n",
    "        if the verb is not in the list\n",
    "        \"\"\"\n",
    "        tl_verb_list.append(tl_verb)\n",
    "        inDict = False\n",
    "        \n",
    "    else:\n",
    "        \"\"\"\n",
    "        if the verb is in the list\n",
    "        \"\"\"\n",
    "        temp_index = tl_verb_list.index(tl_verb)\n",
    "        inDict = True\n",
    "\n",
    "    \"\"\"\n",
    "    append the the verb in the tagalog verb\n",
    "    \"\"\"\n",
    "\n",
    "    if curr_il_pos == 'VB' and wp_index not in matched:\n",
    "        \"\"\"\n",
    "        if VB : VB\n",
    "        if the Ilokano POS is a verb\n",
    "        \"\"\"\n",
    "        temp_verb = il_pos_data['Tokenized'][sp_index][wp_index]\n",
    "        il_verb.append(temp_verb)\n",
    "        matched.append(wp_index)\n",
    "        \n",
    "    elif curr_il_pos == 'DT' and next_il_pos == 'VB' and wp_index not in matched:    \n",
    "        \"\"\"\n",
    "        if VB : DT VB\n",
    "        if the Ilokano POS is a determiner and the next POS is a verb\n",
    "        eg. Nilalang : ti Aramid\n",
    "        \"\"\"\n",
    "        temp_curr_verb = il_pos_data['Tokenized'][sp_index][wp_index]\n",
    "        temp_next_verb = il_pos_data['Tokenized'][sp_index][wp_index + 1]\n",
    "        temp_verb = temp_curr_verb + ' ' + temp_next_verb\n",
    "        il_verb.append(temp_verb)\n",
    "        matched.append(wp_index)\n",
    "        matched.append(wp_index + 1) \n",
    "\n",
    "    elif curr_il_pos == 'NN' and next_il_pos == 'VB' and wp_index not in matched:    \n",
    "        \"\"\"\n",
    "        if VB : NN VB\n",
    "        if the Ilokano POS is a determiner and the next POS is a verb\n",
    "        \"\"\"\n",
    "        temp_verb = il_pos_data['Tokenized'][sp_index][wp_index + 1]\n",
    "        il_verb.append(temp_verb)\n",
    "        matched.append(wp_index + 1)\n",
    "        \n",
    "    elif curr_il_pos == 'DT' and next_il_pos == 'NN' and next2_il_pos == 'VB' and wp_index not in matched:\n",
    "        \"\"\"\n",
    "        if VB DT NN : DT NN VB\n",
    "        if the Ilokano POS is a determiner and the next POS is a verb\n",
    "        \"\"\"\n",
    "        temp_verb = il_pos_data['Tokenized'][sp_index][wp_index + 2]\n",
    "        il_verb.append(temp_verb)\n",
    "        matched.append(wp_index + 2)\n",
    "        \n",
    "    else:\n",
    "        \"\"\"\n",
    "        if VB : Other POS\n",
    "        if the Ilokano POS is not a verb\n",
    "        \"\"\"\n",
    "        il_verb.append('None')\n",
    "        matched.append(wp_index)\n",
    "\n",
    "    if not inDict:\n",
    "        il_verb_list.append(il_verb)\n",
    "    else:\n",
    "        if il_verb[0] not in il_verb_list[temp_index]:\n",
    "            il_verb_list[temp_index].append(il_verb[0])\n",
    "            "
   ]
  },
  {
   "cell_type": "markdown",
   "metadata": {},
   "source": [
    "### For Noun List"
   ]
  },
  {
   "cell_type": "code",
   "execution_count": null,
   "metadata": {},
   "outputs": [],
   "source": [
    "def append_nn_list(tl_noun, tl_noun_list, il_noun, il_noun_list, curr_il_pos, next_il_pos, matched, sp_index, wp_index):\n",
    "    if tl_noun not in tl_noun_list:\n",
    "        \"\"\"\n",
    "        if the noun is not in the list\n",
    "        \"\"\"\n",
    "        tl_noun_list.append(tl_noun)\n",
    "        inDict = False\n",
    "        \n",
    "    else:\n",
    "        \"\"\"\n",
    "        if the noun is in the list\n",
    "        \"\"\"\n",
    "        temp_index = tl_noun_list.index(tl_noun)\n",
    "        inDict = True\n",
    "\n",
    "    \"\"\"\n",
    "    append the the noun in the tagalog noun\n",
    "    \"\"\"\n",
    "\n",
    "    if curr_il_pos == 'NN':\n",
    "        \"\"\"\n",
    "        if NN : NN\n",
    "        if the Ilokano POS is a noun\n",
    "        \"\"\"\n",
    "        temp_noun = il_pos_data['Tokenized'][sp_index][wp_index]\n",
    "        il_noun.append(temp_noun)\n",
    "        matched.append(wp_index)\n",
    "        \n",
    "        \n",
    "    elif curr_il_pos == 'DT' and next_il_pos == 'NN':    \n",
    "        \"\"\"\n",
    "        if NN : DT NN\n",
    "        if the Ilokano POS is a determiner and the next POS is a noun\n",
    "        \"\"\"\n",
    "        temp_curr_noun = il_pos_data['Tokenized'][sp_index][wp_index]\n",
    "        temp_next_noun = il_pos_data['Tokenized'][sp_index][wp_index + 1]\n",
    "        temp_noun = temp_curr_noun + ' ' + temp_next_noun\n",
    "        il_noun.append(temp_noun) \n",
    "        matched.append(wp_index)\n",
    "          \n",
    "    else:\n",
    "        \"\"\"\n",
    "        if NN : Other POS\n",
    "        if the Ilokano POS is not a noun\n",
    "        \"\"\"\n",
    "        il_noun.append('None')\n",
    "        matched.append(wp_index)\n",
    "\n",
    "    if not inDict:\n",
    "        il_noun_list.append(il_noun)\n",
    "    else:\n",
    "        if il_noun[0] not in il_noun_list[temp_index]:\n",
    "            il_noun_list[temp_index].append(il_noun[0])"
   ]
  },
  {
   "cell_type": "markdown",
   "metadata": {},
   "source": [
    "### Tagalog to Ilokano Matcher"
   ]
  },
  {
   "cell_type": "code",
   "execution_count": null,
   "metadata": {},
   "outputs": [],
   "source": [
    "\n",
    "wp_index = None # word position index\n",
    "\n",
    "\"\"\"\n",
    "instantiating the verb lists\n",
    "\"\"\"\n",
    "\n",
    "def match_tl_il_pos():\n",
    "    \"\"\"\n",
    "    This function matches the POS of the sentences in the Tagalog and Ilokano datasets\n",
    "    \"\"\"\n",
    "    tl_verb_list = []\n",
    "    il_verb_list = []\n",
    "    tl_noun_list = []\n",
    "    il_noun_list = []\n",
    "    tl_to_il_verb_list = []\n",
    "    sp_index = 0\n",
    "    \"\"\"\n",
    "    instantiating the verb lists\n",
    "    \"\"\"\n",
    "    \n",
    "    for tl_sen_pos in tl_sen_poss_list:\n",
    "        # loop for getting the pos structure of every sentence\n",
    "        \"\"\"\n",
    "        tl_sen is a list of POS of a sentence\n",
    "        eg. ['VB', 'DT', 'NN', 'DT', 'NN']\n",
    "        \"\"\"\n",
    "        matched = []\n",
    "        il_sen = il_sen_poss_list[sp_index]\n",
    "    \n",
    "        wp_index = 0\n",
    "        \"\"\"\n",
    "        instantiating the variables\n",
    "        \"\"\"\n",
    "        \n",
    "        for tl_word_pos in tl_sen_pos:\n",
    "            # loop for each pos in a sentence\n",
    "            \"\"\"\n",
    "            tl_word_pos is a POS of a word\n",
    "            eg. 'VB'\n",
    "            \"\"\"\n",
    "            il_verb = []\n",
    "            il_noun = []\n",
    "            \n",
    "            tl_word = tl_pos_data['Tokenized'][sp_index][wp_index]\n",
    "            # gets the word in every sentence\n",
    "            \n",
    "            try:\n",
    "                curr_il_pos = il_sen[wp_index] # ti\n",
    "            except IndexError:\n",
    "                curr_il_pos = 'None'\n",
    "            try:\n",
    "                next_il_pos = il_sen[wp_index + 1]\n",
    "            except IndexError:\n",
    "                next_il_pos = 'None'\n",
    "            try:\n",
    "                next2_il_pos = il_sen[wp_index + 2]\n",
    "            except IndexError:\n",
    "                next2_il_pos = 'None'\n",
    "            try:\n",
    "                prev_il_pos = il_sen[wp_index - 1]\n",
    "                if (wp_index - 1) < 0:\n",
    "                    prev_il_pos = 'None'\n",
    "            except IndexError:\n",
    "                prev_il_pos = 'None'\n",
    "            \"\"\"\n",
    "            getting the current, next, and previous POS in the sentence\n",
    "            \"\"\"\n",
    "            \n",
    "            # Matching Conditions\n",
    "            # 1. VB\n",
    "            if tl_word_pos == 'VB':\n",
    "                \"\"\"\n",
    "                Verb Matching\n",
    "                if the POS is a verb, append the index of the verb to the verb list\n",
    "                \"\"\"\n",
    "                append_vb_list(tl_word, tl_verb_list, il_verb, il_verb_list, curr_il_pos, next_il_pos, next2_il_pos, matched, sp_index, wp_index)\n",
    "\n",
    "            if tl_word_pos == 'NN':\n",
    "                \"\"\"\n",
    "                Noun Matching\n",
    "                if the POS is a noun, append the index of the noun to the noun list\n",
    "                \"\"\"\n",
    "                append_nn_list(tl_word, tl_noun_list, il_noun, il_noun_list, curr_il_pos, next_il_pos, matched, sp_index, wp_index)\n",
    "                            \n",
    "            wp_index += 1     \n",
    "        sp_index += 1\n",
    "    \n",
    "    dict_tl_il_vb['Tagalog Verb'] = tl_verb_list\n",
    "    dict_tl_il_vb['Ilokano Verb'] = il_verb_list\n",
    "    dict_tl_il_nn['Tagalog Noun'] = tl_noun_list\n",
    "    dict_tl_il_nn['Ilokano Noun'] = il_noun_list\n",
    "    \n",
    "    \n",
    "match_tl_il_pos()\n",
    "dict_tl_il_vb.head(7)\n",
    "dict_tl_il_nn.head(30)"
   ]
  },
  {
   "cell_type": "code",
   "execution_count": null,
   "metadata": {},
   "outputs": [],
   "source": [
    "il_pos_data['Tokenized'].head(7)\n"
   ]
  },
  {
   "cell_type": "code",
   "execution_count": null,
   "metadata": {},
   "outputs": [],
   "source": [
    "dict_tl_il_vb['Ilokano Verb'][3]"
   ]
  },
  {
   "cell_type": "code",
   "execution_count": null,
   "metadata": {},
   "outputs": [],
   "source": []
  }
 ],
 "metadata": {
  "kernelspec": {
   "display_name": "Python 3.10.5 64-bit",
   "language": "python",
   "name": "python3"
  },
  "language_info": {
   "codemirror_mode": {
    "name": "ipython",
    "version": 3
   },
   "file_extension": ".py",
   "mimetype": "text/x-python",
   "name": "python",
   "nbconvert_exporter": "python",
   "pygments_lexer": "ipython3",
   "version": "3.10.5"
  },
  "orig_nbformat": 4,
  "vscode": {
   "interpreter": {
    "hash": "c1d54cc6ba22d92170a9f9c24d6077688435e22a85a4273e6fe4e4e6bdebfd02"
   }
  }
 },
 "nbformat": 4,
 "nbformat_minor": 2
}
