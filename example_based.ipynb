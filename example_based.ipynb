{
 "cells": [
  {
   "cell_type": "markdown",
   "metadata": {},
   "source": [
    "# Example-Based Model"
   ]
  },
  {
   "cell_type": "markdown",
   "metadata": {},
   "source": [
    "## Initialization of the Datasets\n"
   ]
  },
  {
   "cell_type": "markdown",
   "metadata": {},
   "source": [
    "### Source Dataset"
   ]
  },
  {
   "cell_type": "markdown",
   "metadata": {},
   "source": [
    "#### Storing the Tagalog Part of Speech Data Set"
   ]
  },
  {
   "cell_type": "code",
   "execution_count": null,
   "metadata": {},
   "outputs": [],
   "source": [
    "import pandas as pd\n",
    "\n",
    "# Read the tagalog POS dataset\n",
    "tl_pos_data = pd.read_json('src/json data/tl_pos.json')\n",
    "\n",
    "tl_pos_data.head(2)"
   ]
  },
  {
   "cell_type": "markdown",
   "metadata": {},
   "source": [
    "#### Storing the Ilokano Part of Speech Data Set"
   ]
  },
  {
   "cell_type": "code",
   "execution_count": null,
   "metadata": {},
   "outputs": [],
   "source": [
    "# Read the ilokano POS dataset\n",
    "il_pos_data = pd.read_json('src/json data/il_pos.json')\n",
    "\n",
    "il_pos_data.head(2)"
   ]
  },
  {
   "cell_type": "markdown",
   "metadata": {},
   "source": [
    "#### Storing the Tagalog Part of Speech "
   ]
  },
  {
   "cell_type": "code",
   "execution_count": null,
   "metadata": {},
   "outputs": [],
   "source": [
    "temp_df = pd.DataFrame(tl_pos_data['POS'])\n",
    "\n",
    "temp_df.columns = ['Tagalog POS']\n",
    "temp_df.head()"
   ]
  },
  {
   "cell_type": "markdown",
   "metadata": {},
   "source": [
    "#### Storing the Ilokano Part of Speech "
   ]
  },
  {
   "cell_type": "code",
   "execution_count": null,
   "metadata": {},
   "outputs": [],
   "source": [
    "temp_df['Ilokano POS'] = il_pos_data['POS']\n",
    "\n",
    "temp_df.head()"
   ]
  },
  {
   "cell_type": "code",
   "execution_count": null,
   "metadata": {},
   "outputs": [],
   "source": [
    "tl_sample_sen = temp_df['Tagalog POS'][1]\n",
    "il_sample_sen = temp_df['Ilokano POS'][1]\n",
    "\n",
    "tl_verb_list = []\n",
    "il_verb_list = []\n",
    "tl_to_il_verbs = []\n",
    "\n",
    "for tl_word in tl_sample_sen:\n",
    "   for il_word in il_sample_sen:\n",
    "      if tl_word == il_word and tl_word == 'VB':\n",
    "         \"\"\"\n",
    "         if the tagalog word has a pos 'VB' and the ilokano word has a pos 'VB'\n",
    "         \"\"\"\n",
    "         \n",
    "         tl_temp_index = tl_sample_sen.index(tl_word)\n",
    "         il_temp_index = il_sample_sen.index(il_word)\n",
    "         \"\"\"\n",
    "         gets the index of those words\n",
    "         \"\"\"\n",
    "         il_temp_sen = il_pos_data['Tokenized'][1]\n",
    "         tl_temp_verb = tl_pos_data['Tokenized'][1][tl_temp_index]\n",
    "         \n",
    "         try:\n",
    "            prev_pos = il_sample_sen[il_temp_index - 1]\n",
    "         except (ValueError, IndexError):\n",
    "            prev_pos = None\n",
    "         \"\"\"\n",
    "         getting the previous pos of the ilokano word\n",
    "         \"\"\"   \n",
    "         \n",
    "         if prev_pos == 'DT':\n",
    "            \"\"\"\n",
    "            if the ilokano word has a pos 'DT' before it\n",
    "            \"\"\"\n",
    "            il_temp_verb = il_temp_sen[il_temp_index - 1] + ' ' + il_temp_sen[il_temp_index]\n",
    "         else:\n",
    "            il_temp_verb = il_temp_sen[il_temp_index]\n",
    "\n",
    "tl_verb_list.append(tl_temp_verb)\n",
    "il_verb_list.append(il_temp_verb)\n",
    "il_verb_list.append('aramid')\n",
    "tl_to_il_verbs.append(tl_verb_list)\n",
    "tl_to_il_verbs.append(il_verb_list)\n",
    "   \n",
    "\"\"\"\n",
    "append the tagalog word to the list\n",
    "\"\"\"\n",
    "print(tl_to_il_verbs)           \n",
    "              "
   ]
  },
  {
   "cell_type": "code",
   "execution_count": null,
   "metadata": {},
   "outputs": [],
   "source": []
  }
 ],
 "metadata": {
  "kernelspec": {
   "display_name": "Python 3.10.1 64-bit",
   "language": "python",
   "name": "python3"
  },
  "language_info": {
   "codemirror_mode": {
    "name": "ipython",
    "version": 3
   },
   "file_extension": ".py",
   "mimetype": "text/x-python",
   "name": "python",
   "nbconvert_exporter": "python",
   "pygments_lexer": "ipython3",
   "version": "3.10.1"
  },
  "orig_nbformat": 4,
  "vscode": {
   "interpreter": {
    "hash": "fd5e40cb983109c15fc1053f6f3e661cc97e68e07c1758cdbd2441c60186ce19"
   }
  }
 },
 "nbformat": 4,
 "nbformat_minor": 2
}
