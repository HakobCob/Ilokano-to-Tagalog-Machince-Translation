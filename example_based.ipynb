{
 "cells": [
  {
   "cell_type": "markdown",
   "metadata": {},
   "source": [
    "# Example-Based Model"
   ]
  },
  {
   "cell_type": "markdown",
   "metadata": {},
   "source": [
    "## Initialization of the Datasets\n"
   ]
  },
  {
   "cell_type": "markdown",
   "metadata": {},
   "source": [
    "### Source Dataset"
   ]
  },
  {
   "cell_type": "markdown",
   "metadata": {},
   "source": [
    "#### Storing the Tagalog Part of Speech Data Set"
   ]
  },
  {
   "cell_type": "code",
   "execution_count": null,
   "metadata": {},
   "outputs": [],
   "source": [
    "import pandas as pd\n",
    "\n",
    "# Read the tagalog POS dataset\n",
    "tl_pos_data = pd.read_json('src/json data/tl_pos.json')\n",
    "\n",
    "tl_pos_data.head()"
   ]
  },
  {
   "cell_type": "markdown",
   "metadata": {},
   "source": [
    "#### Storing the Ilokano Part of Speech Data Set"
   ]
  },
  {
   "cell_type": "code",
   "execution_count": null,
   "metadata": {},
   "outputs": [],
   "source": [
    "# Read the ilokano POS dataset\n",
    "il_pos_data = pd.read_json('src/json data/il_pos.json')\n",
    "\n",
    "il_pos_data.head()"
   ]
  },
  {
   "cell_type": "markdown",
   "metadata": {},
   "source": [
    "#### Storing the Tagalog Part of Speech Structure"
   ]
  },
  {
   "cell_type": "code",
   "execution_count": null,
   "metadata": {},
   "outputs": [],
   "source": [
    "dict_sen_poss = pd.DataFrame(tl_pos_data['POS'])\n",
    "\n",
    "dict_sen_poss.columns = ['Tagalog POS']"
   ]
  },
  {
   "cell_type": "markdown",
   "metadata": {},
   "source": [
    "#### Storing the Ilokano Part of Speech "
   ]
  },
  {
   "cell_type": "code",
   "execution_count": null,
   "metadata": {},
   "outputs": [],
   "source": [
    "dict_sen_poss['Ilokano POS'] = il_pos_data['POS']\n",
    "\n",
    "dict_sen_poss.head(50)"
   ]
  },
  {
   "cell_type": "markdown",
   "metadata": {},
   "source": [
    "### Verb Tagalog to Ilokano Dictionary"
   ]
  },
  {
   "cell_type": "code",
   "execution_count": null,
   "metadata": {},
   "outputs": [],
   "source": [
    "tl_sen_poss_list = dict_sen_poss['Tagalog POS']\n",
    "il_sen_poss_list = dict_sen_poss['Ilokano POS']\n",
    "\"\"\"\n",
    "putting the POS of the sentences in a list object\n",
    "\"\"\"\n",
    "\n",
    "dict_tl_il_vb = pd.DataFrame(columns=['Tagalog Verb', 'Ilokano Verb'])\n",
    "dict_tl_il_nn = pd.DataFrame(columns=['Tagalog Noun', 'Ilokano Noun'])\n",
    "dict_tl_il_rb = pd.DataFrame(columns=['Tagalog Adverb', 'Ilokano Adverb'])\n"
   ]
  },
  {
   "cell_type": "markdown",
   "metadata": {},
   "source": [
    "## Appending in the List"
   ]
  },
  {
   "cell_type": "markdown",
   "metadata": {},
   "source": [
    "### For Verb List"
   ]
  },
  {
   "cell_type": "code",
   "execution_count": null,
   "metadata": {},
   "outputs": [],
   "source": [
    "def append_vb_list(tl_verb, tl_verb_list, il_verb, il_verb_list, curr_il_pos, next_il_pos, next2_il_pos, sp_index, wp_index):\n",
    "    if tl_verb not in tl_verb_list:\n",
    "        \"\"\"\n",
    "        if the verb is not in the list\n",
    "        \"\"\"\n",
    "        tl_verb_list.append(tl_verb)\n",
    "        inDict = False\n",
    "        \n",
    "    else:\n",
    "        \"\"\"\n",
    "        if the verb is in the list\n",
    "        \"\"\"\n",
    "        temp_index = tl_verb_list.index(tl_verb)\n",
    "        inDict = True\n",
    "\n",
    "    \"\"\"\n",
    "    append the the verb in the tagalog verb\n",
    "    \"\"\"\n",
    "\n",
    "    if curr_il_pos == 'VB':\n",
    "        \"\"\"\n",
    "        if VB : VB\n",
    "        if the Ilokano POS is a verb\n",
    "        \"\"\"\n",
    "        temp_verb = il_pos_data['Tokenized'][sp_index][wp_index]\n",
    "        il_verb.append(temp_verb)\n",
    "        \n",
    "    elif curr_il_pos == 'DT' and next_il_pos == 'VB':    \n",
    "        \"\"\"\n",
    "        if VB : DT VB\n",
    "        if the Ilokano POS is a determiner and the next POS is a verb\n",
    "        eg. Nilalang : ti Aramid\n",
    "        \"\"\"\n",
    "        temp_curr_verb = il_pos_data['Tokenized'][sp_index][wp_index]\n",
    "        temp_next_verb = il_pos_data['Tokenized'][sp_index][wp_index + 1]\n",
    "        temp_verb = temp_curr_verb + ' ' + temp_next_verb\n",
    "        il_verb.append(temp_verb) \n",
    "\n",
    "    elif curr_il_pos == 'NN' and next_il_pos == 'VB':    \n",
    "        \"\"\"\n",
    "        if VB : NN VB\n",
    "        if the Ilokano POS is a determiner and the next POS is a verb\n",
    "        \"\"\"\n",
    "        temp_verb = il_pos_data['Tokenized'][sp_index][wp_index + 1]\n",
    "        il_verb.append(temp_verb)\n",
    "        \n",
    "    elif curr_il_pos == 'DT' and next_il_pos == 'NN' and next2_il_pos == 'VB':\n",
    "        \"\"\"\n",
    "        if VB DT NN : DT NN VB\n",
    "        if the Ilokano POS is a determiner and the next POS is a verb\n",
    "        \"\"\"\n",
    "        temp_verb = il_pos_data['Tokenized'][sp_index][wp_index + 2]\n",
    "        il_verb.append(temp_verb)\n",
    "        \n",
    "    else:\n",
    "        \"\"\"\n",
    "        if VB : Other POS\n",
    "        if the Ilokano POS is not a verb\n",
    "        \"\"\"\n",
    "        il_verb.append('None')\n",
    "\n",
    "    if not inDict:\n",
    "        il_verb_list.append(il_verb)\n",
    "    else:\n",
    "        if il_verb[0] not in il_verb_list[temp_index]:\n",
    "            il_verb_list[temp_index].append(il_verb[0])"
   ]
  },
  {
   "cell_type": "markdown",
   "metadata": {},
   "source": [
    "### For Adverb list\n"
   ]
  },
  {
   "cell_type": "code",
   "execution_count": null,
   "metadata": {},
   "outputs": [],
   "source": [
    "def append_rb_list(tl_adverb, tl_adverb_list, il_adverb, il_adverb_list, curr_il_pos, next_il_pos, next2_il_pos, next3_il_pos, prev_il_pos, sp_index, wp_index):\n",
    "    if tl_adverb not in tl_adverb_list:\n",
    "        \"\"\"\n",
    "        if the adverb is not in the list\n",
    "        \"\"\"\n",
    "        tl_adverb_list.append(tl_adverb)\n",
    "        inDict = False\n",
    "        \n",
    "    else:\n",
    "        \"\"\"\n",
    "        if the adverb is in the list\n",
    "        \"\"\"\n",
    "        temp_index = tl_adverb_list.index(tl_adverb)\n",
    "        inDict = True\n",
    "\n",
    "    \"\"\"\n",
    "    append the the verb in the tagalog verb\n",
    "    \"\"\"\n",
    "\n",
    "    if curr_il_pos == 'RB':\n",
    "        \"\"\"\n",
    "        if RB : RB\n",
    "        if the Ilokano POS is a adverb\n",
    "        \"\"\"\n",
    "        temp_adverb = il_pos_data['Tokenized'][sp_index][wp_index]\n",
    "        il_adverb.append(temp_adverb)\n",
    "        \n",
    "    elif curr_il_pos == 'DT' and next_il_pos == 'RB':    \n",
    "        \"\"\"\n",
    "        if RB : DT RB\n",
    "        \"\"\"\n",
    "        temp_curr_adverb = il_pos_data['Tokenized'][sp_index][wp_index]\n",
    "        temp_next_adverb = il_pos_data['Tokenized'][sp_index][wp_index + 1]\n",
    "        temp_adverb = temp_curr_adverb + ' ' + temp_next_adverb\n",
    "        il_adverb.append(temp_adverb) \n",
    "\n",
    "  \n",
    "        \n",
    "    elif curr_il_pos == 'DT' and next_il_pos == 'NN' and next2_il_pos == 'DT' and next3_il_pos == 'RB' :  \n",
    "        \"\"\"\n",
    "        if RB : DT NN DT RB\n",
    "        \n",
    "        \"\"\"\n",
    "        temp_adverb = il_pos_data['Tokenized'][sp_index][wp_index + 3]\n",
    "        il_adverb.append(temp_adverb)\n",
    "        \n",
    "    elif curr_il_pos == 'DT' and prev_il_pos == 'RB':\n",
    "        \"\"\"\n",
    "        if RB : DT with RB behind DT\n",
    "        \n",
    "        \"\"\"\n",
    "        temp_adverb = il_pos_data['Tokenized'][sp_index][wp_index - 1]\n",
    "        il_adverb.append(temp_adverb)\n",
    "        \n",
    "    \n",
    "        \n",
    "    else:\n",
    "        \"\"\"\n",
    "        if RB : Other POS\n",
    "        if the Ilokano POS is not a adverb\n",
    "        \"\"\"\n",
    "        il_adverb.append('None')\n",
    "\n",
    "    if not inDict:\n",
    "        il_adverb_list.append(il_adverb)\n",
    "    else:\n",
    "        if il_adverb[0] not in il_adverb_list[temp_index]:\n",
    "            il_adverb_list[temp_index].append(il_adverb[0])"
   ]
  },
  {
   "cell_type": "code",
   "execution_count": null,
   "metadata": {},
   "outputs": [],
   "source": []
  },
  {
   "cell_type": "markdown",
   "metadata": {},
   "source": [
    "### For Noun List"
   ]
  },
  {
   "cell_type": "markdown",
   "metadata": {},
   "source": [
    "### Tagalog to Ilokano Matcher"
   ]
  },
  {
   "cell_type": "code",
   "execution_count": null,
   "metadata": {},
   "outputs": [],
   "source": [
    "\n",
    "wp_index = None # word position index\n",
    "\n",
    "\"\"\"\n",
    "instantiating the verb lists\n",
    "\"\"\"\n",
    "\n",
    "def match_tl_il_pos():\n",
    "    \"\"\"\n",
    "    This function matches the POS of the sentences in the Tagalog and Ilokano datasets\n",
    "    \"\"\"\n",
    "    tl_verb_list = []\n",
    "    il_verb_list = []\n",
    "    il_noun_list = []\n",
    "    il_adverb_list = []\n",
    "    tl_adverb_list = []\n",
    "    tl_to_il_verb_list = []\n",
    "    sp_index = 0\n",
    "    \"\"\"\n",
    "    instantiating the verb lists\n",
    "    \"\"\"\n",
    "    \n",
    "    for tl_sen_pos in tl_sen_poss_list:\n",
    "        \"\"\"\n",
    "        tl_sen is a list of POS of a sentence\n",
    "        eg. ['VB', 'DT', 'NN', 'DT', 'NN']\n",
    "        \"\"\"\n",
    "        il_verb = []\n",
    "        il_noun = []\n",
    "        il_adverb = []\n",
    "        il_sen = il_sen_poss_list[sp_index]\n",
    "        wp_index = 0\n",
    "        \"\"\"\n",
    "        instantiating the variables\n",
    "        \"\"\"\n",
    "        \n",
    "        for tl_word_pos in tl_sen_pos:\n",
    "            \"\"\"\n",
    "            tl_word_pos is a POS of a word\n",
    "            eg. 'VB'\n",
    "            \"\"\"\n",
    "            \n",
    "            tl_word = tl_pos_data['Tokenized'][sp_index][wp_index]\n",
    "            \n",
    "            try:\n",
    "                curr_il_pos = il_sen[wp_index] # ti\n",
    "            except IndexError:\n",
    "                curr_il_pos = 'None'\n",
    "            try:\n",
    "                next_il_pos = il_sen[wp_index + 1]\n",
    "            except IndexError:\n",
    "                next_il_pos = 'None'\n",
    "            try:\n",
    "                next2_il_pos = il_sen[wp_index + 2]\n",
    "            except IndexError:\n",
    "                next2_il_pos = 'None'\n",
    "            try:\n",
    "                prev_il_pos = il_sen[wp_index - 1]\n",
    "                if (wp_index - 1) < 0:\n",
    "                    prev_il_pos = 'None'\n",
    "            except IndexError:\n",
    "                prev_il_pos = 'None'\n",
    "            \"\"\"\n",
    "            getting the current, next, and previous POS in the sentence\n",
    "            \"\"\"\n",
    "            \n",
    "            # Matching Conditions\n",
    "            # 1. VB\n",
    "            if tl_word_pos == 'VB':\n",
    "                \"\"\"\n",
    "                Verb Matching\n",
    "                if the POS is a verb, append the index of the verb to the verb list\n",
    "                \"\"\"\n",
    "                append_vb_list(tl_word, tl_verb_list, il_verb, il_verb_list, curr_il_pos, next_il_pos, next2_il_pos, sp_index, wp_index)\n",
    "                \n",
    "            if tl_word_pos == 'RB':\n",
    "                \"\"\"\n",
    "                Adverb matching\n",
    "                if the POS is an adverb, append the index of the adverb to the adverb list\n",
    "                \"\"\"\n",
    "                append_vb_list(tl_word, tl_adverb_list, il_adverb, il_adverb_list, curr_il_pos, next_il_pos, next2_il_pos, sp_index, wp_index)    \n",
    "                             \n",
    "            wp_index += 1\n",
    "               \n",
    "        sp_index += 1\n",
    "    \n",
    "    dict_tl_il_vb['Tagalog Verb'] = tl_verb_list\n",
    "    dict_tl_il_vb['Ilokano Verb'] = il_verb_list\n",
    "    dict_tl_il_rb['Tagalog Adverb'] = tl_adverb_list\n",
    "    dict_tl_il_rb['Ilokano Adverb'] = il_adverb_list\n",
    "    \n",
    "    \n",
    "match_tl_il_pos()\n",
    "dict_tl_il_rb.head(30)\n",
    "\n"
   ]
  },
  {
   "cell_type": "code",
   "execution_count": null,
   "metadata": {},
   "outputs": [],
   "source": []
  }
 ],
 "metadata": {
  "kernelspec": {
   "display_name": "Python 3.10.6 64-bit",
   "language": "python",
   "name": "python3"
  },
  "language_info": {
   "codemirror_mode": {
    "name": "ipython",
    "version": 3
   },
   "file_extension": ".py",
   "mimetype": "text/x-python",
   "name": "python",
   "nbconvert_exporter": "python",
   "pygments_lexer": "ipython3",
   "version": "3.10.6"
  },
  "orig_nbformat": 4,
  "vscode": {
   "interpreter": {
    "hash": "a9cff5a362bc38ef45d817ae74b1af54d6a076e3d773891282bce078b815ba34"
   }
  }
 },
 "nbformat": 4,
 "nbformat_minor": 2
}
