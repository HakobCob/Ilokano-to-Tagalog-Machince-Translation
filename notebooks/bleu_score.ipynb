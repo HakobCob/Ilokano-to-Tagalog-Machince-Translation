{
 "cells": [
  {
   "cell_type": "markdown",
   "metadata": {},
   "source": [
    "# Bleu Scoring"
   ]
  },
  {
   "cell_type": "code",
   "execution_count": null,
   "metadata": {},
   "outputs": [],
   "source": [
    "import pandas as pd\n",
    "\n",
    "# Read the tagalog POS dataset\n",
    "dict_tl_il_result = pd.read_json('src/json data/Document Translator/dict_tl_il_result.json')\n",
    "\n",
    "system_op_list = dict_tl_il_result['System Output'].tolist()\n",
    "target_op_list = dict_tl_il_result['Target Output'].tolist()\n"
   ]
  },
  {
   "cell_type": "code",
   "execution_count": null,
   "metadata": {},
   "outputs": [],
   "source": [
    "from nltk.translate.bleu_score import SmoothingFunction, sentence_bleu\n",
    "\n",
    "def bleuScore(target_op, system_op):\n",
    "    cc = SmoothingFunction() #smoothing is used for short sentences or sentences without 3/4-grams\n",
    "    return sentence_bleu([target_op], system_op, smoothing_function=cc.method4)#sentenece_blue() requires sentences to be tokenized list\n",
    "\n",
    "with open(\"src/text data/Document Translator/bleu_scores.txt\",\"w\", encoding=\"utf-8\") as df:\n",
    "    temp_index = 0\n",
    "    total_bleu_score = 0\n",
    "    score_list = []\n",
    "    for target_op in target_op_list:\n",
    "        system_op = system_op_list[temp_index]\n",
    "        \n",
    "        score = bleuScore(target_op, system_op)\n",
    "        # print(\"Reference: \", target_op)\n",
    "        # print(\"Machine Translation: \", system_op)\n",
    "        # print(\"BLEU Score: \", score)\n",
    "        # print(\"\\n\")\n",
    "        \n",
    "        \"\"\"\n",
    "            Writing the result to a file\n",
    "        \"\"\"\n",
    "        df.write(\"Reference: \" + target_op + \"\\n\")\n",
    "        df.write(\"Machine Translation: \" + system_op + \"\\n\")\n",
    "        df.write(\"BLEU Score: \" + str(score) + \"\\n\")\n",
    "        df.write(\"\\n\")\n",
    "        \n",
    "        score_list.append(score)\n",
    "        total_bleu_score += score\n",
    "        temp_index += 1\n",
    "\n",
    "    dict_tl_il_result['Blue Score'] = score_list\n",
    "    average_bleu_score = total_bleu_score / len(target_op_list)\n",
    "    print(\"Average BLEU Score: \", average_bleu_score)\n",
    "    df.write(\"Average BLEU Score: \" + str(average_bleu_score))"
   ]
  },
  {
   "cell_type": "code",
   "execution_count": null,
   "metadata": {},
   "outputs": [],
   "source": [
    "dict_tl_il_result.head(50)"
   ]
  },
  {
   "cell_type": "code",
   "execution_count": null,
   "metadata": {},
   "outputs": [],
   "source": [
    "import json\n",
    "\n",
    "dict_tl_il_score = dict_tl_il_result.to_dict('records')\n",
    "\n",
    "try:\n",
    "    with open(\"src/json data/Document Translator/dict_tl_il_score.json\", \"w\") as outfile:\n",
    "        json.dump(dict_tl_il_score, outfile)\n",
    "    print(\"successfully saved the dict_tl_il_score.json file\")\n",
    "except:\n",
    "    print(\"Error in saving the dict_tl_il_score.json file\")"
   ]
  },
  {
   "cell_type": "code",
   "execution_count": null,
   "metadata": {},
   "outputs": [],
   "source": []
  }
 ],
 "metadata": {
  "kernelspec": {
   "display_name": "Python 3.10.1 64-bit",
   "language": "python",
   "name": "python3"
  },
  "language_info": {
   "codemirror_mode": {
    "name": "ipython",
    "version": 3
   },
   "file_extension": ".py",
   "mimetype": "text/x-python",
   "name": "python",
   "nbconvert_exporter": "python",
   "pygments_lexer": "ipython3",
   "version": "3.10.1"
  },
  "orig_nbformat": 4,
  "vscode": {
   "interpreter": {
    "hash": "fd5e40cb983109c15fc1053f6f3e661cc97e68e07c1758cdbd2441c60186ce19"
   }
  }
 },
 "nbformat": 4,
 "nbformat_minor": 2
}
