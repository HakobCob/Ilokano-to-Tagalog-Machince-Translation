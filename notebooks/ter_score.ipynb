{
 "cells": [
  {
   "attachments": {},
   "cell_type": "markdown",
   "metadata": {},
   "source": [
    "# TER SCORING"
   ]
  },
  {
   "cell_type": "code",
   "execution_count": null,
   "metadata": {},
   "outputs": [],
   "source": [
    "import pandas as pd\n",
    "import sacrebleu\n",
    "from statistics import mean\n",
    "\n",
    "def compute_ter_score(src_text_list, tgt_op_list, sys_op_list, filename):\n",
    "    target = [['']]\n",
    "    system = ['']\n",
    "    ter_scores_list = []\n",
    "    csv_frame = pd.DataFrame(columns=[\"INPUT\", \"REFERENCE\", \"MACHINE_TRANSLATION\", \"NUM_OF_EDITS\", \"NUM_OF_REF\", \"TER_SCORE\"])\n",
    "\n",
    "    for index, target_op in enumerate(tgt_op_list):\n",
    "        system_op = sys_op_list[index]\n",
    "        source_text = src_text_list[index]\n",
    "\n",
    "        reference_words = target_op.split()\n",
    "        candidate_words = system_op.split()\n",
    "\n",
    "        correct_candidate_words = len(set(candidate_words) & set(reference_words))\n",
    "        total_reference_words = len(reference_words)\n",
    "        num_of_edits = total_reference_words - correct_candidate_words\n",
    "\n",
    "        system[0] = system_op\n",
    "        target[0] = [target_op]\n",
    "        \n",
    "        ter_score = num_of_edits/total_reference_words\n",
    "\n",
    "        ter_scores_list.append(ter_score)\n",
    "        \n",
    "        csv_frame = csv_frame.append({\"INPUT\": source_text, \"REFERENCE\": target_op, \"MACHINE_TRANSLATION\": system_op, \"NUM_OF_EDITS\": num_of_edits, \"NUM_OF_REF\": total_reference_words, \"TER_SCORE\": ter_score}, ignore_index=True)\n",
    "        \n",
    "    average_ter_score = mean(ter_scores_list)\n",
    "    csv_frame = csv_frame.append({\"AVERAGE_TER_SCORE\": average_ter_score}, ignore_index=True)\n",
    "    csv_frame.to_csv(filename, index=False)\n",
    "\n",
    "# Training Data Tagalog to Ilokano \n",
    "dict_tl_il_result = pd.read_json('../src/json data/Tagalog to Ilokano/Hybrid Translator/dict_tl-il_op_ex.json')\n",
    "src_text_list = dict_tl_il_result['Source Text'].tolist()\n",
    "tgt_op_list = dict_tl_il_result['Target Output'].tolist()\n",
    "sys_op_list = dict_tl_il_result['System Output'].tolist()\n",
    "compute_ter_score(src_text_list, tgt_op_list, sys_op_list, '../src/scores/Tagalog to Ilokano/train/train_ter_tl-il.csv')\n",
    "\n",
    "# Training Data Ilokano to Tagalog\n",
    "dict_il_tl_result = pd.read_json('../src/json data/Ilokano to Tagalog/Hybrid Translator/dict_il-tl_op_ex.json')\n",
    "src_text_list = dict_il_tl_result['Source Text'].tolist()\n",
    "tgt_op_list = dict_il_tl_result['Target Output'].tolist()\n",
    "sys_op_list = dict_il_tl_result['System Output'].tolist()\n",
    "compute_ter_score(src_text_list, tgt_op_list, sys_op_list, '../src/scores/Ilokano to Tagalog/train/train_ter_il-tl.csv')\n",
    "\n",
    "# Testing Data Tagalog to Ilokano\n",
    "dict_tl_il_result = pd.read_json('../src/json data/Tagalog to Ilokano/Hybrid Translator/dict_tl-il_ter.json')\n",
    "src_text_list = dict_tl_il_result['Source Text'].tolist()\n",
    "tgt_op_list = dict_tl_il_result['Target Output'].tolist()\n",
    "sys_op_list = dict_tl_il_result['System Output'].tolist()\n",
    "compute_ter_score(src_text_list, tgt_op_list, sys_op_list, '../src/scores/Tagalog to Ilokano/test/test_ter_tl-il.csv')\n",
    "\n",
    "# Testing Data Ilokano to Tagalog\n",
    "dict_il_tl_result = pd.read_json('../src/json data/Ilokano to Tagalog/Hybrid Translator/dict_il-tl_test.json')\n",
    "src_text_list = dict_il_tl_result['Source Text'].tolist()\n",
    "tgt_op_list = dict_il_tl_result['Target Output'].tolist()\n",
    "sys_op_list = dict_il_tl_result['System Output'].tolist()\n",
    "compute_ter_score(src_text_list, tgt_op_list, sys_op_list, '../src/scores/Ilokano to Tagalog/test/test_ter_il-tl.csv')"
   ]
  }
 ],
 "metadata": {
  "kernelspec": {
   "display_name": "Python 3",
   "language": "python",
   "name": "python3"
  },
  "language_info": {
   "codemirror_mode": {
    "name": "ipython",
    "version": 3
   },
   "file_extension": ".py",
   "mimetype": "text/x-python",
   "name": "python",
   "nbconvert_exporter": "python",
   "pygments_lexer": "ipython3",
   "version": "3.10.5 (tags/v3.10.5:f377153, Jun  6 2022, 16:14:13) [MSC v.1929 64 bit (AMD64)]"
  },
  "orig_nbformat": 4,
  "vscode": {
   "interpreter": {
    "hash": "c1d54cc6ba22d92170a9f9c24d6077688435e22a85a4273e6fe4e4e6bdebfd02"
   }
  }
 },
 "nbformat": 4,
 "nbformat_minor": 2
}
