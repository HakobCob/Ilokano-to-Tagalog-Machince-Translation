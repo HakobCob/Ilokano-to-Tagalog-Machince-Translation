{
 "cells": [
  {
   "cell_type": "code",
   "execution_count": 1,
   "metadata": {},
   "outputs": [
    {
     "name": "stdout",
     "output_type": "stream",
     "text": [
      "Correct TER:  92.31\n"
     ]
    }
   ],
   "source": [
    "import sacrebleu\n",
    "import re\n",
    "\n",
    "refs = [ # First set of references\n",
    "          ['sarap na sarap ida cadagiti malamig na beer na dumaan cadagiti kanyang lalamunan']\n",
    "        ]\n",
    "sys = ['inimasna ti lamiis ti beer a dimmalan iti karabukobna']\n",
    "\n",
    "score = str(sacrebleu.corpus_ter(sys, refs))\n",
    "\n",
    "for i in score.split():\n",
    "    try:\n",
    "        result = float(i)\n",
    "        break\n",
    "    except:\n",
    "        continue\n",
    "print (\"Correct TER: \", result)"
   ]
  },
  {
   "cell_type": "code",
   "execution_count": null,
   "metadata": {},
   "outputs": [],
   "source": []
  }
 ],
 "metadata": {
  "kernelspec": {
   "display_name": "Python 3.10.1 64-bit",
   "language": "python",
   "name": "python3"
  },
  "language_info": {
   "codemirror_mode": {
    "name": "ipython",
    "version": 3
   },
   "file_extension": ".py",
   "mimetype": "text/x-python",
   "name": "python",
   "nbconvert_exporter": "python",
   "pygments_lexer": "ipython3",
   "version": "3.10.1"
  },
  "orig_nbformat": 4,
  "vscode": {
   "interpreter": {
    "hash": "fd5e40cb983109c15fc1053f6f3e661cc97e68e07c1758cdbd2441c60186ce19"
   }
  }
 },
 "nbformat": 4,
 "nbformat_minor": 2
}
