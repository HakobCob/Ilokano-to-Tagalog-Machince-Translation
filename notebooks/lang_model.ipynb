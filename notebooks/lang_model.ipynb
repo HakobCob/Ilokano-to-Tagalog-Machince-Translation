{
 "cells": [
  {
   "cell_type": "markdown",
   "metadata": {},
   "source": [
    "# Language Model"
   ]
  },
  {
   "cell_type": "markdown",
   "metadata": {},
   "source": [
    "## Initialization of Datasets"
   ]
  },
  {
   "cell_type": "markdown",
   "metadata": {},
   "source": [
    "### Storing nGram Data"
   ]
  },
  {
   "cell_type": "code",
   "execution_count": null,
   "metadata": {},
   "outputs": [],
   "source": [
    "import pandas as pd\n",
    "\n",
    "tl_ngram_data = pd.read_json('src/json data/Example-Based/Language Model/dict_tl_ngram.json')\n",
    "il_ngram_data = pd.read_json('src/json data/Example-Based/Language Model/dict_il_ngram.json')"
   ]
  },
  {
   "cell_type": "markdown",
   "metadata": {},
   "source": [
    "### Storing in lists"
   ]
  },
  {
   "cell_type": "code",
   "execution_count": null,
   "metadata": {},
   "outputs": [],
   "source": [
    "tl_ngram_list = tl_ngram_data['Tagalog nGram'].tolist()\n",
    "il_ngram_list = il_ngram_data['Ilokano nGram'].tolist()"
   ]
  },
  {
   "cell_type": "markdown",
   "metadata": {},
   "source": [
    "### Language Model Tagalog to Ilokano Dictionary"
   ]
  },
  {
   "cell_type": "code",
   "execution_count": null,
   "metadata": {},
   "outputs": [],
   "source": [
    "dict_tl_il_lang_mod = pd.DataFrame(columns=['Tagalog Structure', 'Ilokano Structure', 'Ilokano Structure Count'])\n",
    "dict_tl_il_struct = pd.DataFrame(columns=['Tagalog Structure Count', 'Ilokano Structure Count'])"
   ]
  },
  {
   "cell_type": "markdown",
   "metadata": {},
   "source": [
    "## Counter"
   ]
  },
  {
   "cell_type": "code",
   "execution_count": null,
   "metadata": {},
   "outputs": [],
   "source": [
    "def count_ngram(ngram_data):\n",
    "    count_struct_list = []\n",
    "    for ngram_sen in ngram_data:\n",
    "        count_struct = []\n",
    "        for capsule in ngram_sen:\n",
    "            count_vb = 0\n",
    "            count_nn = 0\n",
    "            count_jj = 0\n",
    "            count_pr = 0\n",
    "            for pos in capsule:\n",
    "                if pos == 'VB':\n",
    "                    count_vb += 1\n",
    "                if pos == 'NN':\n",
    "                    count_nn += 1\n",
    "                if pos == 'JJ':\n",
    "                    count_jj += 1\n",
    "                if pos == 'PR':\n",
    "                    count_pr += 1\n",
    "            \n",
    "            count_struct.append([count_vb, count_nn, count_jj, count_pr])\n",
    "        count_struct_list.append(count_struct)\n",
    "            \n",
    "    return count_struct_list"
   ]
  },
  {
   "cell_type": "code",
   "execution_count": null,
   "metadata": {},
   "outputs": [],
   "source": [
    "tl_count_struct_list = count_ngram(tl_ngram_data['Tagalog nGram'])\n",
    "il_count_struct_list = count_ngram(il_ngram_data['Ilokano nGram'])\n",
    "\n",
    "dict_tl_il_struct['Tagalog Structure Count'] = tl_count_struct_list\n",
    "dict_tl_il_struct['Ilokano Structure Count'] = il_count_struct_list\n",
    "\n",
    "dict_tl_il_struct.head()"
   ]
  },
  {
   "cell_type": "markdown",
   "metadata": {},
   "source": [
    "## Matcher"
   ]
  },
  {
   "cell_type": "code",
   "execution_count": null,
   "metadata": {},
   "outputs": [],
   "source": [
    "def match_tl_il_lang_mod():\n",
    "    sp_index = 0\n",
    "    \n",
    "    tl_struct_list = []\n",
    "    il_struct_list = []\n",
    "    \n",
    "    tl_struct_count_list = []\n",
    "    il_struct_count_list = []\n",
    "    \n",
    "    for tl_ngram_sen in tl_ngram_list:\n",
    "        wp_index = 0\n",
    "        \n",
    "        tl_count_struct_sen = tl_count_struct_list[sp_index]\n",
    "        il_count_struct_sen = il_count_struct_list[sp_index]\n",
    "        \n",
    "        il_ngram_sen = il_ngram_list[sp_index]\n",
    "        \n",
    "        for tl_ngram in tl_ngram_sen:\n",
    "            tl_count_stuct = tl_count_struct_sen[wp_index]\n",
    "            \n",
    "            if len(tl_ngram_sen) == len(il_ngram_sen):\n",
    "                curr_il_ngram = il_ngram_sen[wp_index]\n",
    "                il_curr_stuct = il_count_struct_sen[wp_index]\n",
    "                il_next_stuct = None\n",
    "                il_prev_stuct = None\n",
    "                # print('current_il_ngram:', curr_il_ngram)\n",
    "                \n",
    "                try:\n",
    "                    next_il_ngram = il_ngram_sen[wp_index + 1]\n",
    "                    il_next_stuct = il_count_struct_sen[wp_index + 1]\n",
    "                    # print('next_il_ngram: ', next_il_ngram)\n",
    "                except:\n",
    "                    pass\n",
    "                try:\n",
    "                    if (wp_index - 1) != -1:\n",
    "                        prev_il_ngram = il_ngram_sen[wp_index - 1]\n",
    "                        il_prev_stuct = il_count_struct_sen[wp_index - 1]\n",
    "                        # print('prev_il_ngram: ', prev_il_ngram)\n",
    "                except:\n",
    "                    pass\n",
    "                \n",
    "                \"\"\"\n",
    "                    Counter for the number of words in the nGram\n",
    "                \"\"\"\n",
    "                \n",
    "                # Stories with Tagalog nGram of in the DataFrame                   \n",
    "                if tl_ngram not in tl_struct_list:\n",
    "                    tl_struct_list.append(tl_ngram)\n",
    "                    inDict = False\n",
    "                else:\n",
    "                    temp_index = tl_struct_list.index(tl_ngram)\n",
    "                    inDict = True\n",
    "                \n",
    "                # Conditions for the current word    \n",
    "                if tl_count_stuct == il_curr_stuct:    \n",
    "                    il_gram = curr_il_ngram\n",
    "                \n",
    "                elif tl_count_stuct == il_next_stuct:\n",
    "                    il_gram = next_il_ngram\n",
    "                \n",
    "                elif tl_count_stuct == il_prev_stuct:\n",
    "                    il_gram = prev_il_ngram\n",
    "                    \n",
    "                else:\n",
    "                    il_gram = tl_ngram\n",
    "                \n",
    "                # Storing the Ilokano nGram in the DataFrame    \n",
    "                if not inDict:\n",
    "                    il_struct_list.append([il_gram])\n",
    "                    il_struct_count_list.append([1])\n",
    "                else:\n",
    "                    if il_gram not in il_struct_list[temp_index]:\n",
    "                        il_struct_list[temp_index].append(il_gram)\n",
    "                        il_struct_count_list[temp_index].append(1)\n",
    "                    else:\n",
    "                        temp_struct_index = il_struct_list[temp_index].index(il_gram)\n",
    "                        il_struct_count_list[temp_index][temp_struct_index] += 1\n",
    "            wp_index += 1\n",
    "        sp_index += 1\n",
    "        \n",
    "    dict_tl_il_lang_mod['Tagalog Structure'] = tl_struct_list\n",
    "    dict_tl_il_lang_mod['Ilokano Structure'] = il_struct_list\n",
    "    dict_tl_il_lang_mod['Ilokano Structure Count'] = il_struct_count_list\n",
    "            "
   ]
  },
  {
   "cell_type": "code",
   "execution_count": null,
   "metadata": {},
   "outputs": [],
   "source": [
    "match_tl_il_lang_mod()\n",
    "\n",
    "dict_tl_il_lang_mod.head(20)"
   ]
  },
  {
   "cell_type": "markdown",
   "metadata": {},
   "source": [
    "## Exporting the dictionary to a JSON File"
   ]
  },
  {
   "cell_type": "code",
   "execution_count": null,
   "metadata": {},
   "outputs": [],
   "source": [
    "import json\n",
    "\n",
    "dict_tl_il_lang_mod_rec = dict_tl_il_lang_mod.to_dict('records')\n",
    "\n",
    "try:\n",
    "    with open('src/json data/Example-Based/Language Model/dict_tl_il_lang_mod.json', 'w') as outfile:\n",
    "        json.dump(dict_tl_il_lang_mod_rec, outfile)\n",
    "    print('Successfully saved the file!')\n",
    "except:\n",
    "    print('Error saving the file!')"
   ]
  },
  {
   "cell_type": "code",
   "execution_count": null,
   "metadata": {},
   "outputs": [],
   "source": []
  }
 ],
 "metadata": {
  "kernelspec": {
   "display_name": "Python 3.10.1 64-bit",
   "language": "python",
   "name": "python3"
  },
  "language_info": {
   "codemirror_mode": {
    "name": "ipython",
    "version": 3
   },
   "file_extension": ".py",
   "mimetype": "text/x-python",
   "name": "python",
   "nbconvert_exporter": "python",
   "pygments_lexer": "ipython3",
   "version": "3.10.1"
  },
  "orig_nbformat": 4,
  "vscode": {
   "interpreter": {
    "hash": "fd5e40cb983109c15fc1053f6f3e661cc97e68e07c1758cdbd2441c60186ce19"
   }
  }
 },
 "nbformat": 4,
 "nbformat_minor": 2
}
