{
 "cells": [
  {
   "cell_type": "markdown",
   "metadata": {},
   "source": [
    "# Language Model"
   ]
  },
  {
   "cell_type": "markdown",
   "metadata": {},
   "source": [
    "## Initialization of Datasets"
   ]
  },
  {
   "cell_type": "markdown",
   "metadata": {},
   "source": [
    "### Storing nGram Data"
   ]
  },
  {
   "cell_type": "code",
   "execution_count": 3,
   "metadata": {},
   "outputs": [
    {
     "data": {
      "text/html": [
       "<div>\n",
       "<style scoped>\n",
       "    .dataframe tbody tr th:only-of-type {\n",
       "        vertical-align: middle;\n",
       "    }\n",
       "\n",
       "    .dataframe tbody tr th {\n",
       "        vertical-align: top;\n",
       "    }\n",
       "\n",
       "    .dataframe thead th {\n",
       "        text-align: right;\n",
       "    }\n",
       "</style>\n",
       "<table border=\"1\" class=\"dataframe\">\n",
       "  <thead>\n",
       "    <tr style=\"text-align: right;\">\n",
       "      <th></th>\n",
       "      <th>Tagalog POS Struct</th>\n",
       "      <th>Tagalog 4-Gram</th>\n",
       "      <th>Tagalog Trigram</th>\n",
       "      <th>Tagalog Bigram</th>\n",
       "      <th>Tagalog Unigram</th>\n",
       "      <th>Tagalog nGram</th>\n",
       "      <th>Tagalog N-Gram Count</th>\n",
       "    </tr>\n",
       "  </thead>\n",
       "  <tbody>\n",
       "    <tr>\n",
       "      <th>0</th>\n",
       "      <td>[SW]</td>\n",
       "      <td>[]</td>\n",
       "      <td>[]</td>\n",
       "      <td>[]</td>\n",
       "      <td>[SW]</td>\n",
       "      <td>[SW]</td>\n",
       "      <td>1</td>\n",
       "    </tr>\n",
       "    <tr>\n",
       "      <th>1</th>\n",
       "      <td>[VB, DT, NN, DT, NN]</td>\n",
       "      <td>[]</td>\n",
       "      <td>[[VB, DT, NN]]</td>\n",
       "      <td>[[DT, NN]]</td>\n",
       "      <td>[]</td>\n",
       "      <td>[[VB, DT, NN], [DT, NN]]</td>\n",
       "      <td>2</td>\n",
       "    </tr>\n",
       "    <tr>\n",
       "      <th>2</th>\n",
       "      <td>[DT, UNK, DT, VB, DT, NN, DT, NN, CC, DT, NN]</td>\n",
       "      <td>[[DT, VB, DT, NN]]</td>\n",
       "      <td>[]</td>\n",
       "      <td>[[DT, NN], [DT, NN]]</td>\n",
       "      <td>[CC]</td>\n",
       "      <td>[[DT, VB, DT, NN], [DT, NN], CC, [DT, NN]]</td>\n",
       "      <td>4</td>\n",
       "    </tr>\n",
       "    <tr>\n",
       "      <th>3</th>\n",
       "      <td>[CC, DT, NN, DT, JJ, NN, CC, JJ, NN, CC, DT, N...</td>\n",
       "      <td>[[DT, NN, DT, JJ]]</td>\n",
       "      <td>[]</td>\n",
       "      <td>[[JJ, NN], [DT, NN], [DT, NN], [DT, NN], [DT, ...</td>\n",
       "      <td>[CC, CC, CC, CC]</td>\n",
       "      <td>[CC, [DT, NN, DT, JJ], CC, [JJ, NN], CC, [DT, ...</td>\n",
       "      <td>11</td>\n",
       "    </tr>\n",
       "    <tr>\n",
       "      <th>4</th>\n",
       "      <td>[CC, VB, DT, NN, VB, DT, NN, CC, VB, DT, NN]</td>\n",
       "      <td>[]</td>\n",
       "      <td>[[VB, DT, NN], [VB, DT, NN], [VB, DT, NN]]</td>\n",
       "      <td>[]</td>\n",
       "      <td>[CC, CC]</td>\n",
       "      <td>[CC, [VB, DT, NN], [VB, DT, NN], CC, [VB, DT, ...</td>\n",
       "      <td>5</td>\n",
       "    </tr>\n",
       "  </tbody>\n",
       "</table>\n",
       "</div>"
      ],
      "text/plain": [
       "                                  Tagalog POS Struct      Tagalog 4-Gram  \\\n",
       "0                                               [SW]                  []   \n",
       "1                               [VB, DT, NN, DT, NN]                  []   \n",
       "2      [DT, UNK, DT, VB, DT, NN, DT, NN, CC, DT, NN]  [[DT, VB, DT, NN]]   \n",
       "3  [CC, DT, NN, DT, JJ, NN, CC, JJ, NN, CC, DT, N...  [[DT, NN, DT, JJ]]   \n",
       "4       [CC, VB, DT, NN, VB, DT, NN, CC, VB, DT, NN]                  []   \n",
       "\n",
       "                              Tagalog Trigram  \\\n",
       "0                                          []   \n",
       "1                              [[VB, DT, NN]]   \n",
       "2                                          []   \n",
       "3                                          []   \n",
       "4  [[VB, DT, NN], [VB, DT, NN], [VB, DT, NN]]   \n",
       "\n",
       "                                      Tagalog Bigram   Tagalog Unigram  \\\n",
       "0                                                 []              [SW]   \n",
       "1                                         [[DT, NN]]                []   \n",
       "2                               [[DT, NN], [DT, NN]]              [CC]   \n",
       "3  [[JJ, NN], [DT, NN], [DT, NN], [DT, NN], [DT, ...  [CC, CC, CC, CC]   \n",
       "4                                                 []          [CC, CC]   \n",
       "\n",
       "                                       Tagalog nGram  Tagalog N-Gram Count  \n",
       "0                                               [SW]                     1  \n",
       "1                           [[VB, DT, NN], [DT, NN]]                     2  \n",
       "2         [[DT, VB, DT, NN], [DT, NN], CC, [DT, NN]]                     4  \n",
       "3  [CC, [DT, NN, DT, JJ], CC, [JJ, NN], CC, [DT, ...                    11  \n",
       "4  [CC, [VB, DT, NN], [VB, DT, NN], CC, [VB, DT, ...                     5  "
      ]
     },
     "execution_count": 3,
     "metadata": {},
     "output_type": "execute_result"
    }
   ],
   "source": [
    "import pandas as pd\n",
    "\n",
    "tl_ngram_data = pd.read_json('src/json data/Example-Based/Language Model/dict_tl_ngram.json')\n",
    "il_ngram_data = pd.read_json('src/json data/Example-Based/Language Model/dict_il_ngram.json')\n",
    "\n",
    "tl_ngram_data.head()"
   ]
  },
  {
   "cell_type": "markdown",
   "metadata": {},
   "source": [
    "### Language Model Tagalog to Ilokano Dictionary"
   ]
  },
  {
   "cell_type": "code",
   "execution_count": 4,
   "metadata": {},
   "outputs": [],
   "source": [
    "dict_tl_il_lang_mod = pd.DataFrame(columns=['Tagalog Structure', 'Ilokano Structure'])"
   ]
  },
  {
   "cell_type": "code",
   "execution_count": null,
   "metadata": {},
   "outputs": [],
   "source": []
  }
 ],
 "metadata": {
  "kernelspec": {
   "display_name": "Python 3.10.1 64-bit",
   "language": "python",
   "name": "python3"
  },
  "language_info": {
   "codemirror_mode": {
    "name": "ipython",
    "version": 3
   },
   "file_extension": ".py",
   "mimetype": "text/x-python",
   "name": "python",
   "nbconvert_exporter": "python",
   "pygments_lexer": "ipython3",
   "version": "3.10.1"
  },
  "orig_nbformat": 4,
  "vscode": {
   "interpreter": {
    "hash": "fd5e40cb983109c15fc1053f6f3e661cc97e68e07c1758cdbd2441c60186ce19"
   }
  }
 },
 "nbformat": 4,
 "nbformat_minor": 2
}
