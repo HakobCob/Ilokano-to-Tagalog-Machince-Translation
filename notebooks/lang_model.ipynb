{
 "cells": [
  {
   "cell_type": "markdown",
   "metadata": {},
   "source": [
    "# Language Model"
   ]
  },
  {
   "cell_type": "markdown",
   "metadata": {},
   "source": [
    "## Initialization of Datasets"
   ]
  },
  {
   "cell_type": "markdown",
   "metadata": {},
   "source": [
    "### Storing nGram Data"
   ]
  },
  {
   "cell_type": "code",
   "execution_count": null,
   "metadata": {},
   "outputs": [],
   "source": [
    "import pandas as pd\n",
    "\n",
    "tl_ngram_data = pd.read_json('src/json data/Example-Based/Language Model/dict_tl_ngram.json')\n",
    "il_ngram_data = pd.read_json('src/json data/Example-Based/Language Model/dict_il_ngram.json')"
   ]
  },
  {
   "cell_type": "markdown",
   "metadata": {},
   "source": [
    "### Storing in lists"
   ]
  },
  {
   "cell_type": "code",
   "execution_count": null,
   "metadata": {},
   "outputs": [],
   "source": [
    "tl_ngram_list = tl_ngram_data['Tagalog nGram'].tolist()\n",
    "il_ngram_list = il_ngram_data['Ilokano nGram'].tolist()"
   ]
  },
  {
   "cell_type": "markdown",
   "metadata": {},
   "source": [
    "### Language Model Tagalog to Ilokano Dictionary"
   ]
  },
  {
   "cell_type": "code",
   "execution_count": null,
   "metadata": {},
   "outputs": [],
   "source": [
    "dict_tl_il_lang_mod = pd.DataFrame(columns=['Tagalog Structure', 'Ilokano Structure'])"
   ]
  },
  {
   "cell_type": "markdown",
   "metadata": {},
   "source": [
    "## Matcher"
   ]
  },
  {
   "cell_type": "code",
   "execution_count": null,
   "metadata": {},
   "outputs": [],
   "source": [
    "def match_tl_il_lang_mod():\n",
    "    sp_index = 0\n",
    "    \n",
    "    tl_struct_list = []\n",
    "    il_struct_list = []\n",
    "    \n",
    "    for tl_ngram_sen in tl_ngram_list:\n",
    "        wp_index = 0\n",
    "        \n",
    "        il_ngram_sen = il_ngram_list[sp_index]\n",
    "        \n",
    "        # print(sp_index)\n",
    "        \n",
    "        for tl_ngram in tl_ngram_sen:\n",
    "            # print(tl_ngram)\n",
    "            \n",
    "            if len(tl_ngram_sen) == len(il_ngram_sen):\n",
    "                curr_il_ngram = il_ngram_sen[wp_index]\n",
    "                # print('current_il_ngram:', curr_il_ngram)\n",
    "                \n",
    "                try:\n",
    "                    next_il_ngram = il_ngram_sen[wp_index + 1]\n",
    "                    # print('next_il_ngram: ', next_il_ngram)\n",
    "                except:\n",
    "                    pass\n",
    "                try:\n",
    "                    if (wp_index - 1) != -1:\n",
    "                        prev_il_ngram = il_ngram_sen[wp_index - 1]\n",
    "                        # print('prev_il_ngram: ', prev_il_ngram)\n",
    "                except:\n",
    "                    pass\n",
    "                \n",
    "                \"\"\"\n",
    "                    Counter for the number of words in the nGram\n",
    "                \"\"\"\n",
    "                \n",
    "                if tl_ngram == 'SW':\n",
    "                    if tl_ngram not in tl_struct_list:\n",
    "                        tl_struct_list.append(tl_ngram)\n",
    "                    if curr_il_ngram not in il_struct_list:\n",
    "                        il_struct_list.append(curr_il_ngram)\n",
    "                        \n",
    "                if tl_ngram not in tl_struct_list:\n",
    "                    tl_struct_list.append(tl_ngram)\n",
    "                    inDict = False\n",
    "                else:\n",
    "                    temp_index = tl_struct_list.index(tl_ngram)\n",
    "                    inDict = True\n",
    "                    \n",
    "                if not inDict:\n",
    "                    il_struct_list.append(curr_il_ngram)\n",
    "                        \n",
    "            \n",
    "            wp_index += 1\n",
    "        sp_index += 1\n",
    "        \n",
    "    print(tl_struct_list)\n",
    "            "
   ]
  },
  {
   "cell_type": "code",
   "execution_count": null,
   "metadata": {},
   "outputs": [],
   "source": [
    "match_tl_il_lang_mod()"
   ]
  },
  {
   "cell_type": "code",
   "execution_count": null,
   "metadata": {},
   "outputs": [],
   "source": []
  }
 ],
 "metadata": {
  "kernelspec": {
   "display_name": "Python 3.10.1 64-bit",
   "language": "python",
   "name": "python3"
  },
  "language_info": {
   "codemirror_mode": {
    "name": "ipython",
    "version": 3
   },
   "file_extension": ".py",
   "mimetype": "text/x-python",
   "name": "python",
   "nbconvert_exporter": "python",
   "pygments_lexer": "ipython3",
   "version": "3.10.1"
  },
  "orig_nbformat": 4,
  "vscode": {
   "interpreter": {
    "hash": "fd5e40cb983109c15fc1053f6f3e661cc97e68e07c1758cdbd2441c60186ce19"
   }
  }
 },
 "nbformat": 4,
 "nbformat_minor": 2
}
