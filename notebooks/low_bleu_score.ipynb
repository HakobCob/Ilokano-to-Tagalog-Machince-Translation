{
 "cells": [
  {
   "attachments": {},
   "cell_type": "markdown",
   "metadata": {},
   "source": [
    "# Low BLEU Scoring"
   ]
  },
  {
   "attachments": {},
   "cell_type": "markdown",
   "metadata": {},
   "source": [
    "## Tagalog to Ilokano"
   ]
  },
  {
   "cell_type": "code",
   "execution_count": null,
   "metadata": {},
   "outputs": [],
   "source": [
    "import pandas as pd\n",
    "\n",
    "# Read the Tagalog POS dataset\n",
    "dict_tl_il_result = pd.read_json('../src/json data/Tagalog to Ilokano/Hybrid Translator/dict_op_ex.json')\n",
    "\n",
    "source_text_list = dict_tl_il_result['Source Text'].tolist()\n",
    "target_op_list = dict_tl_il_result['Target Output'].tolist()\n",
    "system_op_list = dict_tl_il_result['System Output'].tolist()"
   ]
  },
  {
   "cell_type": "code",
   "execution_count": null,
   "metadata": {},
   "outputs": [],
   "source": [
    "from nltk.translate.bleu_score import SmoothingFunction, sentence_bleu\n",
    "\n",
    "def bleuScore(target_op, system_op):\n",
    "    cc = SmoothingFunction() #smoothing is used for short sentences or sentences without 3/4-grams\n",
    "    return sentence_bleu([target_op], system_op, smoothing_function=cc.method4)#sentnece_blue() requires sentences to be tokenized list\n",
    "\n",
    "temp_index = 0\n",
    "total_bleu_score = 0\n",
    "score_list = []\n",
    "data = []\n",
    "df = pd.DataFrame(data, columns=[\"INPUT\", \"REFERENCE\", \"MACHINE_TRANSLATION\", \"BLEU_SCORE\"])\n",
    "il_df = pd.DataFrame(data, columns=[\"INPUT\", \"REFERENCE\", \"MACHINE_TRANSLATION\", \"BLEU_SCORE\"])\n",
    "\n",
    "for target_op in target_op_list:\n",
    "    source_text = source_text_list[temp_index]\n",
    "    system_op = system_op_list[temp_index]\n",
    "        \n",
    "    score = bleuScore(target_op, system_op)\n",
    "        \n",
    "    if score < .70:\n",
    "        df = df.append({\"INPUT\": source_text, \"REFERENCE\": target_op, \"MACHINE_TRANSLATION\": system_op, \"BLEU_SCORE\": score}, ignore_index=True)\n",
    "        df.to_csv('../src/scores/csv/low_bleu_scores.csv', index=False)\n",
    "        score_list.append(score)\n",
    "        total_bleu_score += score\n",
    "    temp_index += 1\n",
    "average_bleu_score = total_bleu_score / len(target_op_list)\n",
    "print(average_bleu_score)"
   ]
  },
  {
   "attachments": {},
   "cell_type": "markdown",
   "metadata": {},
   "source": [
    "## Ilokano to Tagalog"
   ]
  },
  {
   "cell_type": "code",
   "execution_count": null,
   "metadata": {},
   "outputs": [],
   "source": [
    "# Read the Ilokano POS dataset\n",
    "dict_il_tag_result = pd.read_json('../src/json data/Ilokano to Tagalog/Hybrid Translator/dict_il_op_ex.json')\n",
    "\n",
    "source_text_list = dict_il_tag_result['Source Text'].tolist()\n",
    "target_op_list = dict_il_tag_result['Target Output'].tolist()\n",
    "system_op_list = dict_il_tag_result['System Output'].tolist()"
   ]
  },
  {
   "cell_type": "code",
   "execution_count": null,
   "metadata": {},
   "outputs": [],
   "source": [
    "def bleuScore(target_op, system_op):\n",
    "    cc = SmoothingFunction() #smoothing is used for short sentences or sentences without 3/4-grams\n",
    "    return sentence_bleu([target_op], system_op, smoothing_function=cc.method4)#sentenece_blue() requires sentences to be tokenized list\n",
    "\n",
    "temp_index = 0\n",
    "total_bleu_score = 0\n",
    "score_list = []\n",
    "data = []\n",
    "df = pd.DataFrame(data, columns=[\"INPUT\", \"REFERENCE\", \"MACHINE_TRANSLATION\", \"BLEU_SCORE\"])\n",
    "il_df = pd.DataFrame(data, columns=[\"INPUT\", \"REFERENCE\", \"MACHINE_TRANSLATION\", \"BLEU_SCORE\"])\n",
    "\n",
    "for target_op in target_op_list:\n",
    "        source_text = source_text_list[temp_index]\n",
    "        system_op = system_op_list[temp_index]\n",
    "        \n",
    "        score = bleuScore(target_op, system_op)\n",
    "        \n",
    "        if score < 70:\n",
    "            df = df.append({\"INPUT\": source_text, \"REFERENCE\": target_op, \"MACHINE_TRANSLATION\": system_op, \"BLEU_SCORE\": score}, ignore_index=True)\n",
    "            df.to_csv('../src/scores/csv/low_bleu_scores.csv', index=False)\n",
    "            score_list.append(score)\n",
    "            total_bleu_score += score\n",
    "        temp_index += 1\n",
    "average_bleu_score = total_bleu_score / len(target_op_list)\n",
    "print(average_bleu_score)"
   ]
  }
 ],
 "metadata": {
  "kernelspec": {
   "display_name": "Python 3",
   "language": "python",
   "name": "python3"
  },
  "language_info": {
   "codemirror_mode": {
    "name": "ipython",
    "version": 3
   },
   "file_extension": ".py",
   "mimetype": "text/x-python",
   "name": "python",
   "nbconvert_exporter": "python",
   "pygments_lexer": "ipython3",
   "version": "3.10.6"
  },
  "orig_nbformat": 4,
  "vscode": {
   "interpreter": {
    "hash": "a9cff5a362bc38ef45d817ae74b1af54d6a076e3d773891282bce078b815ba34"
   }
  }
 },
 "nbformat": 4,
 "nbformat_minor": 2
}
