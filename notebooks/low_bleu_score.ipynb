{
 "cells": [
  {
   "attachments": {},
   "cell_type": "markdown",
   "metadata": {},
   "source": [
    "# BLEU Scoring"
   ]
  },
  {
   "cell_type": "code",
   "execution_count": null,
   "metadata": {},
   "outputs": [],
   "source": [
    "import pandas as pd\n",
    "\n",
    "# Read the tagalog POS dataset\n",
    "dict_tl_il_result = pd.read_json('../src/json data/Tagalog to Ilokano/Hybrid Translator/dict_op_ex.json')\n",
    "\n",
    "system_op_list = dict_tl_il_result['System Output'].tolist()\n",
    "target_op_list = dict_tl_il_result['Target Output'].tolist()"
   ]
  },
  {
   "cell_type": "code",
   "execution_count": null,
   "metadata": {},
   "outputs": [],
   "source": [
    "from nltk.translate.bleu_score import SmoothingFunction, sentence_bleu\n",
    "\n",
    "def bleuScore(target_op, system_op):\n",
    "    cc = SmoothingFunction() #smoothing is used for short sentences or sentences without 3/4-grams\n",
    "    return sentence_bleu([target_op], system_op, smoothing_function=cc.method4)#sentenece_blue() requires sentences to be tokenized list\n",
    "\n",
    "temp_index = 0\n",
    "total_bleu_score = 0\n",
    "score_list = []\n",
    "data = []\n",
    "df = pd.DataFrame(data, columns=[\"INPUT\", \"REFERENCE\", \"MACHINE_TRANSLATION\", \"BLEU_SCORE\"])\n",
    "\n",
    "for target_op in target_op_list:\n",
    "        system_op = system_op_list[temp_index]\n",
    "        \n",
    "        score = bleuScore(target_op, system_op)\n",
    "        \n",
    "        if score < .70:\n",
    "            df = df.append({\"INPUT\": \"input\", \"REFERENCE\": target_op, \"MACHINE_TRANSLATION\": system_op, \"BLEU_SCORE\": score}, ignore_index=True)\n",
    "            df.to_csv('../src/text data/Tagalog to Ilokano Scores/low_bleu_scores.csv', index=False)\n",
    "            score_list.append(score)\n",
    "            total_bleu_score += score\n",
    "        temp_index += 1"
   ]
  }
 ],
 "metadata": {
  "kernelspec": {
   "display_name": "Python 3.10.5 64-bit",
   "language": "python",
   "name": "python3"
  },
  "language_info": {
   "codemirror_mode": {
    "name": "ipython",
    "version": 3
   },
   "file_extension": ".py",
   "mimetype": "text/x-python",
   "name": "python",
   "nbconvert_exporter": "python",
   "pygments_lexer": "ipython3",
   "version": "3.10.5"
  },
  "orig_nbformat": 4,
  "vscode": {
   "interpreter": {
    "hash": "c1d54cc6ba22d92170a9f9c24d6077688435e22a85a4273e6fe4e4e6bdebfd02"
   }
  }
 },
 "nbformat": 4,
 "nbformat_minor": 2
}
