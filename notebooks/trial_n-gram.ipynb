{
 "cells": [
  {
   "cell_type": "markdown",
   "metadata": {},
   "source": [
    "# Language Model"
   ]
  },
  {
   "cell_type": "code",
   "execution_count": null,
   "metadata": {},
   "outputs": [],
   "source": [
    "def nGram(text, n):\n",
    "    \n",
    "    ngrams=[]\n",
    "    #collect n-gram\n",
    "    for i in range(len(text)-n+1): # i is the index of the first word of the n-gram\n",
    "        temp=[text[j] for j in range(i, i+n)] # j is the index of the word in the n-gram\n",
    "        ngrams.append(\" \".join(temp))\n",
    "        \n",
    "    return ngrams"
   ]
  },
  {
   "cell_type": "code",
   "execution_count": null,
   "metadata": {},
   "outputs": [],
   "source": [
    "import pandas as pd\n",
    "\n",
    "# Read the tagalog POS dataset\n",
    "tl_pos_data = pd.read_json('src/json data/tl_pos.json')\n",
    "il_pos_data = pd.read_json('src/json data/il_pos.json')\n",
    "\n",
    "tl_pos_sen_list = tl_pos_data['POS']\n",
    "il_pos_sen_list = il_pos_data['POS']\n",
    "\n",
    "tl_unigram_list = []\n",
    "tl_unigram_count = []\n",
    "\n",
    "tl_bigram_list = []\n",
    "tl_bigram_count = []\n",
    "\n",
    "il_unigram_list = []\n",
    "il_unigram_count = []\n",
    "\n",
    "il_bigram_list = []\n",
    "il_bigram_count = []"
   ]
  },
  {
   "cell_type": "code",
   "execution_count": null,
   "metadata": {},
   "outputs": [],
   "source": [
    "for tl_pos_sen in tl_pos_sen_list: # loop for going through all the POS sentence structures\n",
    "  tl_unigram = []\n",
    "  tl_bigram = []\n",
    "\n",
    "  unigram_count = 0\n",
    "  bigram_count = 0\n",
    "\n",
    "  sen_index = 0\n",
    "  next_pos = \"\"\n",
    "  \n",
    "  for tl_pos in tl_pos_sen: # loop for all the POS in a sentence\n",
    "    if sen_index < (len(tl_pos_sen) - 1):\n",
    "      next_pos = tl_pos_sen[sen_index+1]\n",
    "      \n",
    "    if tl_pos == 'CC' or tl_pos == 'SW':\n",
    "      tl_unigram.append(tl_pos)\n",
    "      unigram_count += 1\n",
    "\n",
    "    if len(tl_pos_sen) == 2:\n",
    "      tl_bigram.extend([[tl_pos, next_pos]])\n",
    "\n",
    "    if tl_pos == 'DT' and next_pos == 'NN':\n",
    "      tl_bigram.extend([[tl_pos, next_pos]])\n",
    "      bigram_count += 1\n",
    "\n",
    "    sen_index += 1\n",
    "  \n",
    "  tl_unigram_list.append(tl_unigram)\n",
    "  tl_unigram_count.append(unigram_count)\n",
    "  tl_bigram_list.append(tl_bigram)\n",
    "  tl_bigram_count.append(bigram_count)\n",
    "\n",
    "for il_pos_sen in il_pos_sen_list: # loop for going through all the POS sentence structures\n",
    "  il_unigram = []\n",
    "  il_bigram = []\n",
    "\n",
    "  unigram_count = 0\n",
    "  bigram_count = 0\n",
    "\n",
    "  sen_index = 0\n",
    "  next_pos = \"\"\n",
    "  \n",
    "  for il_pos in il_pos_sen: # loop for all the POS in a sentence\n",
    "    if sen_index < (len(il_pos_sen) - 1):\n",
    "      next_pos = il_pos_sen[sen_index+1]\n",
    "      \n",
    "    if il_pos == 'CC' or il_pos == 'SW':\n",
    "      il_unigram.append(il_pos)\n",
    "      unigram_count += 1\n",
    "\n",
    "    if len(il_pos_sen) == 2:\n",
    "      il_bigram.extend([[il_pos, next_pos]])\n",
    "\n",
    "    if il_pos == 'DT' and next_pos == 'NN':\n",
    "      il_bigram.extend([[il_pos, next_pos]])\n",
    "      bigram_count += 1\n",
    "\n",
    "    sen_index += 1\n",
    "  \n",
    "  il_unigram_list.append(il_unigram)\n",
    "  il_unigram_count.append(unigram_count)\n",
    "  il_bigram_list.append(il_bigram)\n",
    "  il_bigram_count.append(bigram_count)\n",
    "\n",
    "dict_unigram = pd.DataFrame(columns = ['Tagalog POS Structures', 'Tagalog Unigram', 'Tagalog Unigram Count', 'Ilokano POS Structures', 'Ilokano Unigram', 'Ilokano Unigram Count'])\n",
    "dict_unigram['Tagalog POS Structures'] = tl_pos_sen_list\n",
    "dict_unigram['Tagalog Unigram'] = tl_unigram_list\n",
    "dict_unigram['Tagalog Unigram Count'] = tl_unigram_count\n",
    "dict_unigram['Ilokano POS Structures'] = il_pos_sen_list\n",
    "dict_unigram['Ilokano Unigram'] = il_unigram_list\n",
    "dict_unigram['Ilokano Unigram Count'] = il_unigram_count\n",
    "\n",
    "dict_bigram = pd.DataFrame(columns = ['Tagalog POS Structures', 'Tagalog Bigram', 'Tagalog Bigram Count', 'Ilokano POS Structures', 'Ilokano Bigram', 'Ilokano Bigram Count'])\n",
    "dict_bigram['Tagalog POS Structures'] = tl_pos_sen_list\n",
    "dict_bigram['Tagalog Bigram'] = tl_bigram_list\n",
    "dict_bigram['Tagalog Bigram Count'] = tl_bigram_count\n",
    "dict_bigram['Ilokano POS Structures'] = il_pos_sen_list\n",
    "dict_bigram['Ilokano Bigram'] = il_bigram_list\n",
    "dict_bigram['Ilokano Bigram Count'] = il_bigram_count\n",
    "\n",
    "dict_unigram.head(50)\n",
    "#dict_bigram.head(50)\n",
    "#dict_trigram.head(50)"
   ]
  },
  {
   "cell_type": "code",
   "execution_count": null,
   "metadata": {},
   "outputs": [],
   "source": [
    "# CELL FOR TRIGRAMS AND FOURGRAMS\n",
    "# CONTAINS THE CODE FOR GETTING THE TRIGRAMS AND FOURGRAMS\n",
    "\n",
    "# -- INSERT CODE FOR GETTING TRIGRAMS AND FOURGRAMS"
   ]
  }
 ],
 "metadata": {
  "kernelspec": {
   "display_name": "Python 3.10.5 64-bit",
   "language": "python",
   "name": "python3"
  },
  "language_info": {
   "codemirror_mode": {
    "name": "ipython",
    "version": 3
   },
   "file_extension": ".py",
   "mimetype": "text/x-python",
   "name": "python",
   "nbconvert_exporter": "python",
   "pygments_lexer": "ipython3",
   "version": "3.10.5"
  },
  "orig_nbformat": 4,
  "vscode": {
   "interpreter": {
    "hash": "c1d54cc6ba22d92170a9f9c24d6077688435e22a85a4273e6fe4e4e6bdebfd02"
   }
  }
 },
 "nbformat": 4,
 "nbformat_minor": 2
}
