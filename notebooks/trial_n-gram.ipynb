{
 "cells": [
  {
   "cell_type": "markdown",
   "metadata": {},
   "source": [
    "# Language Model"
   ]
  },
  {
   "cell_type": "code",
   "execution_count": null,
   "metadata": {},
   "outputs": [],
   "source": [
    "def nGram(text, n):\n",
    "    \n",
    "    ngrams=[]\n",
    "    #collect n-gram\n",
    "    for i in range(len(text)-n+1): # i is the index of the first word of the n-gram\n",
    "        temp=[text[j] for j in range(i, i+n)] # j is the index of the word in the n-gram\n",
    "        ngrams.append(\" \".join(temp))\n",
    "        \n",
    "    return ngrams"
   ]
  },
  {
   "cell_type": "code",
   "execution_count": null,
   "metadata": {},
   "outputs": [],
   "source": [
    "import pandas as pd\n",
    "\n",
    "# Read the tagalog POS dataset\n",
    "tl_pos_data = pd.read_json('src/json data/tl_pos.json')\n",
    "il_pos_data = pd.read_json('src/json data/il_pos.json')\n",
    "\n",
    "tl_pos_list = tl_pos_data['POS']\n",
    "il_pos_list = il_pos_data['POS']\n",
    "\n",
    "tl_unigram_list = []\n",
    "tl_unigram_count = []\n",
    "\n",
    "tl_bigram_list = []\n",
    "tl_bigram_count = []\n",
    "\n",
    "tl_trigram_len = []\n",
    "\n",
    "il_unigram = []\n",
    "il_bigram = []\n",
    "il_trigram = []\n",
    "\n",
    "il_trigram_len = []\n",
    "\n"
   ]
  },
  {
   "cell_type": "code",
   "execution_count": null,
   "metadata": {},
   "outputs": [],
   "source": [
    "for tl_pos in tl_pos_list: # loop for going through all the POS sentence structures\n",
    "  tl_unigram = []\n",
    "  tl_bigram = []\n",
    "  tl_trigram = []\n",
    "\n",
    "  unigram_count = 0\n",
    "  bigram_count = 0\n",
    "\n",
    "  index = 0\n",
    "  next_pos = \"\"\n",
    "  \n",
    "  for pos in tl_pos: # loop for all the pos in a sentence\n",
    "    if index < len(tl_pos) - 1:\n",
    "      next_pos = tl_pos[index+1]\n",
    "      \n",
    "    if pos == 'CC' or pos == 'SW':\n",
    "      tl_unigram.append(pos)\n",
    "      unigram_count += 1\n",
    "\n",
    "    if len(tl_pos) == 2:\n",
    "      tl_bigram.extend([[pos, next_pos]])\n",
    "\n",
    "    if pos == 'DT' and next_pos == 'NN':\n",
    "      tl_bigram.extend([[pos, next_pos]])\n",
    "      bigram_count += 1\n",
    "\n",
    "    index += 1\n",
    "  \n",
    "  tl_unigram_list.append(tl_unigram)\n",
    "  tl_unigram_count.append(unigram_count)\n",
    "  tl_bigram_list.append(tl_bigram)\n",
    "  tl_bigram_count.append(bigram_count)\n",
    "\n",
    "\"\"\"\"\"\n",
    "for il_pos in il_pos_list:\n",
    "  il_unigram.append(nGram(il_pos, 1))\n",
    "  il_bigram.append(nGram(il_pos, 2))\n",
    "  il_trigram.append(nGram(il_pos, 3))\n",
    "  \n",
    "  il_trigram_len.append(len(nGram(il_pos, 3)))\n",
    "  \n",
    "dict_trigram = pd.DataFrame(columns=['Tagalog Trigram', 'Ilokano Trigram'])\n",
    "dict_trigram['Tagalog Trigram'] = tl_trigram\n",
    "dict_trigram['Tagalog Trigram Length'] = tl_trigram_len\n",
    "dict_trigram['Ilokano Trigram'] = il_trigram\n",
    "dict_trigram['Ilokano Trigram Length'] = il_trigram_len\n",
    "\"\"\"\n",
    "dict_unigram = pd.DataFrame(columns=['Tagalog POS', 'Tagalog Unigram', 'Unigram Count'])\n",
    "dict_unigram['Tagalog POS'] = tl_pos_list\n",
    "dict_unigram['Tagalog Unigram'] = tl_unigram_list\n",
    "dict_unigram['Unigram Count'] = tl_unigram_count\n",
    "\n",
    "dict_bigram = pd.DataFrame(columns=['Tagalog POS', 'Tagalog Bigram', 'Bigram Count'])\n",
    "dict_bigram['Tagalog POS'] = tl_pos_list\n",
    "dict_bigram['Tagalog Bigram'] = tl_bigram_list\n",
    "dict_bigram['Bigram Count'] = tl_bigram_count\n",
    "\n",
    "#dict_unigram.head(50)\n",
    "dict_bigram.head(50)\n",
    "#dict_trigram.head(50)"
   ]
  },
  {
   "cell_type": "code",
   "execution_count": null,
   "metadata": {},
   "outputs": [],
   "source": []
  }
 ],
 "metadata": {
  "kernelspec": {
   "display_name": "Python 3.10.5 64-bit",
   "language": "python",
   "name": "python3"
  },
  "language_info": {
   "codemirror_mode": {
    "name": "ipython",
    "version": 3
   },
   "file_extension": ".py",
   "mimetype": "text/x-python",
   "name": "python",
   "nbconvert_exporter": "python",
   "pygments_lexer": "ipython3",
   "version": "3.10.5"
  },
  "orig_nbformat": 4,
  "vscode": {
   "interpreter": {
    "hash": "c1d54cc6ba22d92170a9f9c24d6077688435e22a85a4273e6fe4e4e6bdebfd02"
   }
  }
 },
 "nbformat": 4,
 "nbformat_minor": 2
}
