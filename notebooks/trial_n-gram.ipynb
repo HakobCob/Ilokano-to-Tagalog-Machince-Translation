{
 "cells": [
  {
   "cell_type": "markdown",
   "metadata": {},
   "source": [
    "# Language Model"
   ]
  },
  {
   "cell_type": "code",
   "execution_count": null,
   "metadata": {},
   "outputs": [],
   "source": [
    "def nGram(text, n):\n",
    "    \n",
    "    ngrams=[]\n",
    "    #collect n-gram\n",
    "    for i in range(len(text)-n+1): # i is the index of the first word of the n-gram\n",
    "        temp=[text[j] for j in range(i, i+n)] # j is the index of the word in the n-gram\n",
    "        ngrams.append(\" \".join(temp))\n",
    "        \n",
    "    return ngrams"
   ]
  },
  {
   "cell_type": "code",
   "execution_count": null,
   "metadata": {},
   "outputs": [],
   "source": [
    "import pandas as pd\n",
    "\n",
    "# Read the tagalog POS dataset\n",
    "tl_pos_data = pd.read_json('src/json data/tl_pos.json')\n",
    "il_pos_data = pd.read_json('src/json data/il_pos.json')\n",
    "\n",
    "tl_pos_list = tl_pos_data['POS']\n",
    "il_pos_list = il_pos_data['POS']\n",
    "\n",
    "tl_unigram = []\n",
    "tl_bigram = []\n",
    "tl_trigram = []\n",
    "\n",
    "tl_trigram_len = []\n",
    "\n",
    "il_unigram = []\n",
    "il_bigram = []\n",
    "il_trigram = []\n",
    "\n",
    "il_trigram_len = []"
   ]
  },
  {
   "cell_type": "code",
   "execution_count": null,
   "metadata": {},
   "outputs": [],
   "source": [
    "for tl_pos in tl_pos_list:\n",
    "  tl_unigram.append(nGram(tl_pos, 1))\n",
    "  tl_bigram.append(nGram(tl_pos, 2))\n",
    "  tl_trigram.append(nGram(tl_pos, 3))\n",
    "  \n",
    "  tl_trigram_len.append(len(nGram(tl_pos, 3)))\n",
    "\n",
    "for il_pos in il_pos_list:\n",
    "  il_unigram.append(nGram(il_pos, 1))\n",
    "  il_bigram.append(nGram(il_pos, 2))\n",
    "  il_trigram.append(nGram(il_pos, 3))\n",
    "  \n",
    "  il_trigram_len.append(len(nGram(il_pos, 3)))\n",
    "  \n",
    "dict_trigram = pd.DataFrame(columns=['Tagalog Trigram', 'Ilokano Trigram'])\n",
    "dict_trigram['Tagalog Trigram'] = tl_trigram\n",
    "dict_trigram['Tagalog Trigram Length'] = tl_trigram_len\n",
    "dict_trigram['Ilokano Trigram'] = il_trigram\n",
    "dict_trigram['Ilokano Trigram Length'] = il_trigram_len\n",
    "\n",
    "dict_trigram.head(50)"
   ]
  }
 ],
 "metadata": {
  "kernelspec": {
   "display_name": "Python 3.10.1 64-bit",
   "language": "python",
   "name": "python3"
  },
  "language_info": {
   "codemirror_mode": {
    "name": "ipython",
    "version": 3
   },
   "file_extension": ".py",
   "mimetype": "text/x-python",
   "name": "python",
   "nbconvert_exporter": "python",
   "pygments_lexer": "ipython3",
   "version": "3.10.1"
  },
  "orig_nbformat": 4,
  "vscode": {
   "interpreter": {
    "hash": "fd5e40cb983109c15fc1053f6f3e661cc97e68e07c1758cdbd2441c60186ce19"
   }
  }
 },
 "nbformat": 4,
 "nbformat_minor": 2
}
