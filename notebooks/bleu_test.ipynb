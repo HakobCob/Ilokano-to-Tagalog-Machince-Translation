{
 "cells": [
  {
   "attachments": {},
   "cell_type": "markdown",
   "metadata": {},
   "source": [
    "# ILOKANO TO TAGALOG\n"
   ]
  },
  {
   "cell_type": "code",
   "execution_count": 9,
   "metadata": {},
   "outputs": [],
   "source": [
    "import pandas as pd\n",
    "dict_tl_il_result = pd.read_json('../src/json data/Ilokano to Tagalog/Hybrid Translator/dict_il-tl_test.json')\n",
    "\n",
    "source_text_list = dict_tl_il_result['Source Text'].tolist()\n",
    "system_op_list = dict_tl_il_result['System Output'].tolist()\n",
    "target_op_list = dict_tl_il_result['Target Output'].tolist()"
   ]
  },
  {
   "cell_type": "code",
   "execution_count": 10,
   "metadata": {},
   "outputs": [
    {
     "ename": "TypeError",
     "evalue": "brevity_penalty() missing 1 required positional argument: 'hyp_len'",
     "output_type": "error",
     "traceback": [
      "\u001b[1;31m---------------------------------------------------------------------------\u001b[0m",
      "\u001b[1;31mTypeError\u001b[0m                                 Traceback (most recent call last)",
      "Cell \u001b[1;32mIn [10], line 38\u001b[0m\n\u001b[0;32m     35\u001b[0m hypothesis \u001b[39m=\u001b[39m target_op_list\n\u001b[0;32m     37\u001b[0m \u001b[39m## BREVITY_PENALTY\u001b[39;00m\n\u001b[1;32m---> 38\u001b[0m brev_pen \u001b[39m=\u001b[39m brePen(references, hypothesis)\n\u001b[0;32m     40\u001b[0m \u001b[39m# calculate geometric average precision\u001b[39;00m\n\u001b[0;32m     41\u001b[0m geo_ave \u001b[39m=\u001b[39m nltk\u001b[39m.\u001b[39mtranslate\u001b[39m.\u001b[39mbleu_score\u001b[39m.\u001b[39mgeometric_mean(bleu_precisions)\n",
      "Cell \u001b[1;32mIn [10], line 12\u001b[0m, in \u001b[0;36mbrePen\u001b[1;34m(references, hypothesis)\u001b[0m\n\u001b[0;32m     10\u001b[0m cc \u001b[39m=\u001b[39m SmoothingFunction()\n\u001b[0;32m     11\u001b[0m dd\u001b[39m=\u001b[39m modified_precision(references, hypothesis, n\u001b[39m=\u001b[39m\u001b[39m4\u001b[39m)\n\u001b[1;32m---> 12\u001b[0m \u001b[39mreturn\u001b[39;00m brevity_penalty(dd)\n",
      "\u001b[1;31mTypeError\u001b[0m: brevity_penalty() missing 1 required positional argument: 'hyp_len'"
     ]
    }
   ],
   "source": [
    "import json\n",
    "import nltk\n",
    "from nltk.translate.bleu_score import modified_precision, brevity_penalty, SmoothingFunction, sentence_bleu\n",
    "\n",
    "def bleuScore(target_op, system_op):\n",
    "    cc = SmoothingFunction() # Smoothing is used for short sentences or sentences without 3/4-grams\n",
    "    return sentence_bleu([target_op], system_op, smoothing_function=cc.method4) # Sentence_blue() requires sentences to be tokenized list\n",
    "\n",
    "def brePen(references, hypothesis):\n",
    "    cc = SmoothingFunction()\n",
    "    dd= modified_precision(references, hypothesis, n=4)\n",
    "    return brevity_penalty(dd)\n",
    "\n",
    "\n",
    "\n",
    "\n",
    "temp_index = 0\n",
    "total_bleu_score = 0\n",
    "score_list = []\n",
    "data = []\n",
    "\n",
    "csv_data = pd.DataFrame(data, columns=[\"INPUT\", \"REFERENCE\", \"MACHINE_TRANSLATION\", \"GEO_AVG_PRECISION\", \"BREVITY_PENALTY\", \"BLEU_SCORE\"])\n",
    "\n",
    "\n",
    "# load data from a JSON file\n",
    "with open('../src/json data/Ilokano to Tagalog/Hybrid Translator/dict_il-tl_test.json', \"r\") as f:\n",
    "    data = json.load(f)\n",
    "    \n",
    "    for target_op in target_op_list:\n",
    "        system_op = system_op_list[temp_index]\n",
    "        source_text = source_text_list[temp_index]\n",
    "       \n",
    "            \n",
    "        references = system_op_list\n",
    "        hypothesis = target_op_list\n",
    "   \n",
    "        ## BREVITY_PENALTY\n",
    "        brev_pen = brePen(references, hypothesis)\n",
    "   \n",
    "        # calculate geometric average precision\n",
    "        geo_ave = nltk.translate.bleu_score.geometric_mean(bleu_precisions)\n",
    "        core= brev_pen * geo_ave\n",
    "        \n",
    "        csv_data =  csv_data.append({\"INPUT\": source_text, \"REFERENCE\": target_op, \"MACHINE_TRANSLATION\": system_op, \"GEO_AVG_PRECISION\": geo_ave , \"BREVITY_PENALTY\": brev_pen ,\"BLEU_SCORE\": score}, ignore_index=True)\n",
    "        csv_data.to_csv('../bleu_tl-il.csv', index=False)\n",
    "    \n",
    "        score_list.append(score)\n",
    "        total_bleu_score += score\n",
    "        temp_index += 1\n",
    "    \n",
    "\n"
   ]
  },
  {
   "cell_type": "code",
   "execution_count": null,
   "metadata": {},
   "outputs": [],
   "source": []
  }
 ],
 "metadata": {
  "kernelspec": {
   "display_name": "Python 3",
   "language": "python",
   "name": "python3"
  },
  "language_info": {
   "codemirror_mode": {
    "name": "ipython",
    "version": 3
   },
   "file_extension": ".py",
   "mimetype": "text/x-python",
   "name": "python",
   "nbconvert_exporter": "python",
   "pygments_lexer": "ipython3",
   "version": "3.9.4 (tags/v3.9.4:1f2e308, Apr  4 2021, 13:27:16) [MSC v.1928 64 bit (AMD64)]"
  },
  "orig_nbformat": 4,
  "vscode": {
   "interpreter": {
    "hash": "81794d4967e6c3204c66dcd87b604927b115b27c00565d3d43f05ba2f3a2cb0d"
   }
  }
 },
 "nbformat": 4,
 "nbformat_minor": 2
}
