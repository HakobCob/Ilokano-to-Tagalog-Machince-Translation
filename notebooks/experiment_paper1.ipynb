{
 "cells": [
  {
   "cell_type": "code",
   "execution_count": 18,
   "metadata": {},
   "outputs": [],
   "source": [
    "import json\n",
    "import csv\n",
    "\n",
    "with open('../src/json data/Ilokano to Tagalog/Hybrid Translator/dict_il-tl_test.json', \"r\") as f:\n",
    "    data = json.load(f)\n",
    "    \n",
    "correct_candidate_words = 0\n",
    "total_reference_words = 0\n",
    "correct_reference_words = 0\n",
    "total_candidate_words = 0\n",
    "scores = []\n",
    "recall_sum = 0\n",
    "precision_sum = 0\n",
    "f1_sum = 0\n",
    "\n",
    "for example in data:\n",
    "    reference = example['Target Output']\n",
    "    candidate = example['System Output']\n",
    "    \n",
    "    reference_words = reference.split()\n",
    "    candidate_words = candidate.split()\n",
    "    \n",
    "    # Increment the number of correctly identified candidate words in the reference\n",
    "    correct_candidate_words = len(set(candidate_words) & set(reference_words))\n",
    "    \n",
    "    # Increment the total number of words in the reference\n",
    "    total_reference_words = len(reference_words)\n",
    "    \n",
    "    # Calculate the number of correctly identified reference words in the candidate\n",
    "    correct_reference_words = len(set(candidate_words) & set(reference_words))\n",
    "    \n",
    "    # Calculate the total number of words in the candidate\n",
    "    total_candidate_words = len(candidate_words)\n",
    "\n",
    "    # Calculate the recall score\n",
    "    recall = correct_candidate_words / total_reference_words    \n",
    "    \n",
    "    # Calculate the precision score\n",
    "    precision = correct_reference_words / total_candidate_words\n",
    "    \n",
    "    #Calculate F1 Score\n",
    "    if precision == 0 or recall == 0:\n",
    "        f1_score = 0\n",
    "    else:\n",
    "        f1_score = 2 * (precision * recall) / (precision + recall)\n",
    "\n",
    "    scores.append((reference, candidate, correct_candidate_words, total_reference_words ,recall, correct_reference_words, total_candidate_words, precision, f1_score ))\n",
    "    recall_sum += recall\n",
    "    precision_sum += precision\n",
    "    f1_sum += f1_score\n",
    "    \n",
    "# Calculate the average recall, precision, and F1 scores\n",
    "average_recall = recall_sum / len(data)\n",
    "average_precision = precision_sum / len(data)\n",
    "average_f1 = f1_sum / len(data)\n",
    "\n",
    "with open('../src/scores/Ilokano to Tagalog/test/recall_il-tag.csv', 'w', newline='') as f:\n",
    "    writer = csv.writer(f)\n",
    "    writer.writerow(['Target Output','System Output', 'Number of candidate words in reference', 'Total number of words in reference', 'Recall Score', 'Number of candidate words in reference', 'Total number of words in candidate', 'Precision', 'F1 Score'])\n",
    "    for reference, candidate, correct_candidate_words, total_reference_words, recall, correct_reference_words, total_candidate_words, precision, f1_score in scores:\n",
    "        writer.writerow([reference, candidate, correct_candidate_words, total_reference_words, recall, correct_reference_words, total_candidate_words, precision, f1_score])\n",
    "    writer.writerow(['Average Recall','Average Precision', 'Average F1 Score'])\n",
    "    writer.writerow([average_recall, average_precision, average_f1])"
   ]
  }
 ],
 "metadata": {
  "kernelspec": {
   "display_name": "Python 3",
   "language": "python",
   "name": "python3"
  },
  "language_info": {
   "codemirror_mode": {
    "name": "ipython",
    "version": 3
   },
   "file_extension": ".py",
   "mimetype": "text/x-python",
   "name": "python",
   "nbconvert_exporter": "python",
   "pygments_lexer": "ipython3",
   "version": "3.10.8"
  },
  "orig_nbformat": 4,
  "vscode": {
   "interpreter": {
    "hash": "486e0d5a79acdbfffd563ee7a67a93a5017bd2a4f66495483a69f0245c8a4a6c"
   }
  }
 },
 "nbformat": 4,
 "nbformat_minor": 2
}
